{
 "cells": [
  {
   "cell_type": "code",
   "execution_count": 1,
   "metadata": {},
   "outputs": [],
   "source": [
    "import numpy as np\n",
    "import matplotlib.pyplot as plt\n",
    "import cv2\n",
    "\n",
    "import textdataset as ds\n",
    "import textprep as pr\n",
    "import textrec as tr"
   ]
  },
  {
   "cell_type": "code",
   "execution_count": 2,
   "metadata": {},
   "outputs": [],
   "source": [
    "topdir = '/Users/atadenizaydin/Documents/course material/cs491/SimpleHTR/data'"
   ]
  },
  {
   "cell_type": "code",
   "execution_count": 3,
   "metadata": {},
   "outputs": [
    {
     "name": "stdout",
     "output_type": "stream",
     "text": [
      "CPU times: user 41.9 s, sys: 1.18 s, total: 43.1 s\n",
      "Wall time: 51.8 s\n"
     ]
    }
   ],
   "source": [
    "%%time\n",
    "iam = ds.IAMDataset('words', topdir, msb=True, tabulate=True, sort=True)"
   ]
  },
  {
   "cell_type": "code",
   "execution_count": 4,
   "metadata": {},
   "outputs": [
    {
     "name": "stdout",
     "output_type": "stream",
     "text": [
      "Processing 41 batches of 4031 images of width 16 (1/31)\n",
      "Processing 137 batches of 13672 images of width 32 (2/31)\n",
      "Processing 161 batches of 16008 images of width 48 (3/31)\n",
      "Processing 160 batches of 15996 images of width 64 (4/31)\n",
      "Processing 135 batches of 13493 images of width 80 (5/31)\n",
      "Processing 105 batches of 10438 images of width 96 (6/31)\n",
      "Processing 74 batches of 7342 images of width 112 (7/31)\n",
      "Processing 52 batches of 5146 images of width 128 (8/31)\n",
      "Processing 36 batches of 3507 images of width 144 (9/31)\n",
      "Processing 24 batches of 2334 images of width 160 (10/31)\n",
      "Processing 16 batches of 1533 images of width 176 (11/31)\n",
      "Processing 11 batches of 1037 images of width 192 (12/31)\n",
      "Processing 7 batches of 678 images of width 208 (13/31)\n",
      "Processing 5 batches of 443 images of width 224 (14/31)\n",
      "Processing 3 batches of 281 images of width 240 (15/31)\n",
      "Processing 2 batches of 155 images of width 256 (16/31)\n",
      "Processing 2 batches of 124 images of width 272 (17/31)\n",
      "Processing 1 batches of 79 images of width 288 (18/31)\n",
      "Processing 1 batches of 47 images of width 304 (19/31)\n",
      "Processing 1 batches of 23 images of width 320 (20/31)\n",
      "Processing 1 batches of 18 images of width 336 (21/31)\n",
      "Processing 1 batches of 17 images of width 352 (22/31)\n",
      "Processing 1 batches of 10 images of width 368 (23/31)\n",
      "Processing 1 batches of 4 images of width 384 (24/31)\n",
      "Processing 1 batches of 5 images of width 400 (25/31)\n",
      "Processing 1 batches of 4 images of width 416 (26/31)\n",
      "Processing 1 batches of 1 images of width 432 (27/31)\n",
      "Processing 1 batches of 1 images of width 448 (28/31)\n",
      "Processing 1 batches of 1 images of width 464 (29/31)\n",
      "Processing 1 batches of 1 images of width 480 (30/31)\n",
      "Processing 1 batches of 1 images of width 512 (31/31)\n",
      "CPU times: user 367 ms, sys: 26.4 ms, total: 393 ms\n",
      "Wall time: 385 ms\n"
     ]
    }
   ],
   "source": [
    "%%time\n",
    "iam100 = pr.IAMTrainDataset(iam, 'train100', 100, verbose=True, create=False, normalize=False)"
   ]
  },
  {
   "cell_type": "code",
   "execution_count": 27,
   "metadata": {},
   "outputs": [
    {
     "name": "stdout",
     "output_type": "stream",
     "text": [
      "Processing 81 batches of 4031 images of width 16 (1/31)\n",
      "Processing 274 batches of 13672 images of width 32 (2/31)\n",
      "Processing 321 batches of 16008 images of width 48 (3/31)\n",
      "Processing 320 batches of 15996 images of width 64 (4/31)\n",
      "Processing 270 batches of 13493 images of width 80 (5/31)\n",
      "Processing 209 batches of 10438 images of width 96 (6/31)\n",
      "Could not read a01-117-05-02\n",
      "Processing 147 batches of 7342 images of width 112 (7/31)\n",
      "Processing 103 batches of 5146 images of width 128 (8/31)\n",
      "Processing 71 batches of 3507 images of width 144 (9/31)\n",
      "Processing 47 batches of 2334 images of width 160 (10/31)\n",
      "Could not read r06-022-03-05\n",
      "Processing 31 batches of 1533 images of width 176 (11/31)\n",
      "Processing 21 batches of 1037 images of width 192 (12/31)\n",
      "Processing 14 batches of 678 images of width 208 (13/31)\n",
      "Processing 9 batches of 443 images of width 224 (14/31)\n",
      "Processing 6 batches of 281 images of width 240 (15/31)\n",
      "Processing 4 batches of 155 images of width 256 (16/31)\n",
      "Processing 3 batches of 124 images of width 272 (17/31)\n",
      "Processing 2 batches of 79 images of width 288 (18/31)\n",
      "Processing 1 batches of 47 images of width 304 (19/31)\n",
      "Processing 1 batches of 23 images of width 320 (20/31)\n",
      "Processing 1 batches of 18 images of width 336 (21/31)\n",
      "Processing 1 batches of 17 images of width 352 (22/31)\n",
      "Processing 1 batches of 10 images of width 368 (23/31)\n",
      "Processing 1 batches of 4 images of width 384 (24/31)\n",
      "Processing 1 batches of 5 images of width 400 (25/31)\n",
      "Processing 1 batches of 4 images of width 416 (26/31)\n",
      "Processing 1 batches of 1 images of width 432 (27/31)\n",
      "Processing 1 batches of 1 images of width 448 (28/31)\n",
      "Processing 1 batches of 1 images of width 464 (29/31)\n",
      "Processing 1 batches of 1 images of width 480 (30/31)\n",
      "Processing 1 batches of 1 images of width 512 (31/31)\n",
      "CPU times: user 1min 7s, sys: 24.5 s, total: 1min 31s\n",
      "Wall time: 3min 20s\n"
     ]
    }
   ],
   "source": [
    "%%time\n",
    "iamtr50 = pr.IAMTrainDataset(iam, 'train50', 50, verbose=True, create=True, normalize=False)"
   ]
  },
  {
   "cell_type": "code",
   "execution_count": 7,
   "metadata": {},
   "outputs": [],
   "source": [
    "trec = tr.TextRecognizer(path='../../models/trec_words_100.pt')"
   ]
  },
  {
   "cell_type": "code",
   "execution_count": 8,
   "metadata": {},
   "outputs": [],
   "source": [
    "# trec.load('../models/trec_words_100.pt')"
   ]
  },
  {
   "cell_type": "code",
   "execution_count": 9,
   "metadata": {},
   "outputs": [],
   "source": [
    "s = iam.samlist[50000]\n",
    "a = cv2.imread(s.path, cv2.IMREAD_GRAYSCALE)"
   ]
  },
  {
   "cell_type": "code",
   "execution_count": 10,
   "metadata": {},
   "outputs": [
    {
     "data": {
      "image/png": "[encoded data removed]",
      "text/plain": [
       "<matplotlib.figure.Figure at 0x139f70c88>"
      ]
     },
     "metadata": {},
     "output_type": "display_data"
    }
   ],
   "source": [
    "plt.imshow(a, cmap='gray')\n",
    "plt.show()"
   ]
  },
  {
   "cell_type": "code",
   "execution_count": 11,
   "metadata": {},
   "outputs": [],
   "source": [
    "h, w = a.shape\n",
    "h, w = 32, int(w/h*32)\n",
    "ab = cv2.resize(a, (w, h))\n",
    "ab = cv2.threshold(ab, s.thres, 255, cv2.THRESH_BINARY)[1]"
   ]
  },
  {
   "cell_type": "code",
   "execution_count": 12,
   "metadata": {},
   "outputs": [
    {
     "data": {
      "image/png": "[encoded data removed]",
      "text/plain": [
       "<matplotlib.figure.Figure at 0x11ce79550>"
      ]
     },
     "metadata": {},
     "output_type": "display_data"
    }
   ],
   "source": [
    "plt.imshow(ab, cmap='gray')\n",
    "plt.show()"
   ]
  },
  {
   "cell_type": "code",
   "execution_count": 13,
   "metadata": {},
   "outputs": [
    {
     "data": {
      "text/plain": [
       "['he']"
      ]
     },
     "execution_count": 13,
     "metadata": {},
     "output_type": "execute_result"
    }
   ],
   "source": [
    "trec.infer(ab)"
   ]
  },
  {
   "cell_type": "code",
   "execution_count": 14,
   "metadata": {},
   "outputs": [
    {
     "data": {
      "text/plain": [
       "['he']"
      ]
     },
     "execution_count": 14,
     "metadata": {},
     "output_type": "execute_result"
    }
   ],
   "source": [
    "trec.infer(cv2.resize(a, (w, h)))"
   ]
  },
  {
   "cell_type": "code",
   "execution_count": 15,
   "metadata": {},
   "outputs": [],
   "source": [
    "sb = iamtr50.samlist[-100]\n",
    "bb = np.load(sb.path)"
   ]
  },
  {
   "cell_type": "code",
   "execution_count": 16,
   "metadata": {},
   "outputs": [
    {
     "data": {
      "image/png": "[encoded data removed]",
      "text/plain": [
       "<matplotlib.figure.Figure at 0x11cf3beb8>"
      ]
     },
     "metadata": {},
     "output_type": "display_data"
    }
   ],
   "source": [
    "plt.imshow(bb[30], cmap='gray')\n",
    "plt.show()"
   ]
  },
  {
   "cell_type": "code",
   "execution_count": 17,
   "metadata": {},
   "outputs": [
    {
     "data": {
      "text/plain": [
       "'Mishnah'"
      ]
     },
     "execution_count": 17,
     "metadata": {},
     "output_type": "execute_result"
    }
   ],
   "source": [
    "sb.text[sum(sb.lengths[:30]):sum(sb.lengths[:31])]"
   ]
  },
  {
   "cell_type": "code",
   "execution_count": 18,
   "metadata": {},
   "outputs": [
    {
     "data": {
      "text/plain": [
       "'mishnah'"
      ]
     },
     "execution_count": 18,
     "metadata": {},
     "output_type": "execute_result"
    }
   ],
   "source": [
    "strs = trec.infer(bb)\n",
    "strs[30]"
   ]
  },
  {
   "cell_type": "code",
   "execution_count": 19,
   "metadata": {},
   "outputs": [
    {
     "data": {
      "text/plain": [
       "0.44"
      ]
     },
     "execution_count": 19,
     "metadata": {},
     "output_type": "execute_result"
    }
   ],
   "source": [
    "trec.validatebatch(sb)"
   ]
  },
  {
   "cell_type": "code",
   "execution_count": 29,
   "metadata": {},
   "outputs": [
    {
     "name": "stdout",
     "output_type": "stream",
     "text": [
      "Iteration 10: 0.160000\n",
      "Iteration 20: 0.408163\n",
      "Iteration 30: 0.500000\n",
      "Iteration 40: 0.400000\n",
      "Iteration 50: 0.187500\n",
      "Iteration 60: 0.187500\n",
      "Iteration 70: 0.360000\n",
      "Iteration 80: 0.220000\n",
      "Iteration 90: 0.220000\n",
      "Iteration 100: 0.220000\n",
      "CPU times: user 4min 22s, sys: 21.3 s, total: 4min 43s\n",
      "Wall time: 3min 32s\n"
     ]
    }
   ],
   "source": [
    "%%time\n",
    "dists = trec.validate(iamtr50.samlist[1100:1200])"
   ]
  },
  {
   "cell_type": "code",
   "execution_count": 30,
   "metadata": {},
   "outputs": [
    {
     "data": {
      "image/png": "[encoded data removed]",
      "text/plain": [
       "<matplotlib.figure.Figure at 0x139ecd470>"
      ]
     },
     "metadata": {},
     "output_type": "display_data"
    }
   ],
   "source": [
    "plt.plot(dists)\n",
    "plt.show()"
   ]
  },
  {
   "cell_type": "code",
   "execution_count": 28,
   "metadata": {},
   "outputs": [
    {
     "data": {
      "text/plain": [
       "0.3877551020408163"
      ]
     },
     "execution_count": 28,
     "metadata": {},
     "output_type": "execute_result"
    }
   ],
   "source": [
    "trec.validatebatch(iamtr50.samlist[1102])"
   ]
  },
  {
   "cell_type": "code",
   "execution_count": null,
   "metadata": {},
   "outputs": [],
   "source": []
  }
 ],
 "metadata": {
  "kernelspec": {
   "display_name": "Python 3",
   "language": "python",
   "name": "python3"
  },
  "language_info": {
   "codemirror_mode": {
    "name": "ipython",
    "version": 3
   },
   "file_extension": ".py",
   "mimetype": "text/x-python",
   "name": "python",
   "nbconvert_exporter": "python",
   "pygments_lexer": "ipython3",
   "version": "3.5.3"
  }
 },
 "nbformat": 4,
 "nbformat_minor": 2
}
