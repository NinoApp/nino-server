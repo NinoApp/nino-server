{
 "cells": [
  {
   "cell_type": "code",
   "execution_count": 1,
   "metadata": {},
   "outputs": [],
   "source": [
    "import numpy as np\n",
    "import matplotlib.pyplot as plt\n",
    "import cv2\n",
    "\n",
    "import dataset as ds\n",
    "import preprocess as pr\n",
    "import htr"
   ]
  },
  {
   "cell_type": "code",
   "execution_count": 2,
   "metadata": {},
   "outputs": [],
   "source": [
    "import torch\n",
    "import torch.nn as nn\n",
    "import torch.optim as optim\n",
    "import torch.autograd as ag"
   ]
  },
  {
   "cell_type": "code",
   "execution_count": 28,
   "metadata": {},
   "outputs": [],
   "source": [
    "from importlib import reload"
   ]
  },
  {
   "cell_type": "code",
   "execution_count": 3,
   "metadata": {},
   "outputs": [
    {
     "data": {
      "text/plain": [
       "<module 'dataset' from '/Users/atadenizaydin/Documents/course material/cs491/nino-server/seg/dataset.py'>"
      ]
     },
     "execution_count": 3,
     "metadata": {},
     "output_type": "execute_result"
    }
   ],
   "source": [
    "reload(ds)"
   ]
  },
  {
   "cell_type": "code",
   "execution_count": 46,
   "metadata": {},
   "outputs": [
    {
     "data": {
      "text/plain": [
       "<module 'torch' from '/Users/atadenizaydin/anaconda2/envs/slt-ce/lib/python3.5/site-packages/torch/__init__.py'>"
      ]
     },
     "execution_count": 46,
     "metadata": {},
     "output_type": "execute_result"
    }
   ],
   "source": [
    "reload(torch)"
   ]
  },
  {
   "cell_type": "code",
   "execution_count": 3,
   "metadata": {},
   "outputs": [
    {
     "name": "stdout",
     "output_type": "stream",
     "text": [
      "CPU times: user 57.5 s, sys: 1.03 s, total: 58.5 s\n",
      "Wall time: 2min 20s\n"
     ]
    }
   ],
   "source": [
    "%%time\n",
    "iam = ds.IAMDataset('words', '/Users/atadenizaydin/Documents/course material/cs491/SimpleHTR/data',\n",
    "                   msb=True, tabulate=True, sort=True)"
   ]
  },
  {
   "cell_type": "code",
   "execution_count": 26,
   "metadata": {},
   "outputs": [
    {
     "name": "stdout",
     "output_type": "stream",
     "text": [
      "Processing 41 batches of 4031 images of width 16 (1/31)\n",
      "Processing 137 batches of 13672 images of width 32 (2/31)\n",
      "Processing 161 batches of 16008 images of width 48 (3/31)\n",
      "Processing 160 batches of 15996 images of width 64 (4/31)\n",
      "Processing 135 batches of 13493 images of width 80 (5/31)\n",
      "Processing 105 batches of 10438 images of width 96 (6/31)\n",
      "Could not read a01-117-05-02\n",
      "Processing 74 batches of 7342 images of width 112 (7/31)\n",
      "Processing 52 batches of 5146 images of width 128 (8/31)\n",
      "Processing 36 batches of 3507 images of width 144 (9/31)\n",
      "Processing 24 batches of 2334 images of width 160 (10/31)\n",
      "Could not read r06-022-03-05\n",
      "Processing 16 batches of 1533 images of width 176 (11/31)\n",
      "Processing 11 batches of 1037 images of width 192 (12/31)\n",
      "Processing 7 batches of 678 images of width 208 (13/31)\n",
      "Processing 5 batches of 443 images of width 224 (14/31)\n",
      "Processing 3 batches of 281 images of width 240 (15/31)\n",
      "Processing 2 batches of 155 images of width 256 (16/31)\n",
      "Processing 2 batches of 124 images of width 272 (17/31)\n",
      "Processing 1 batches of 79 images of width 288 (18/31)\n",
      "Processing 1 batches of 47 images of width 304 (19/31)\n",
      "Processing 1 batches of 23 images of width 320 (20/31)\n",
      "Processing 1 batches of 18 images of width 336 (21/31)\n",
      "Processing 1 batches of 17 images of width 352 (22/31)\n",
      "Processing 1 batches of 10 images of width 368 (23/31)\n",
      "Processing 1 batches of 4 images of width 384 (24/31)\n",
      "Processing 1 batches of 5 images of width 400 (25/31)\n",
      "Processing 1 batches of 4 images of width 416 (26/31)\n",
      "Processing 1 batches of 1 images of width 432 (27/31)\n",
      "Processing 1 batches of 1 images of width 448 (28/31)\n",
      "Processing 1 batches of 1 images of width 464 (29/31)\n",
      "Processing 1 batches of 1 images of width 480 (30/31)\n",
      "Processing 1 batches of 1 images of width 512 (31/31)\n",
      "CPU times: user 1min 5s, sys: 25.3 s, total: 1min 30s\n",
      "Wall time: 4min 36s\n"
     ]
    }
   ],
   "source": [
    "%%time\n",
    "iamtr100 = pr.IAMTrainDataset(iam, 'train100', 100, verbose=True, create=True, normalize=False)"
   ]
  },
  {
   "cell_type": "code",
   "execution_count": 4,
   "metadata": {},
   "outputs": [
    {
     "data": {
      "text/plain": [
       "985"
      ]
     },
     "execution_count": 4,
     "metadata": {},
     "output_type": "execute_result"
    }
   ],
   "source": [
    "len(iamtr100)"
   ]
  },
  {
   "cell_type": "code",
   "execution_count": 29,
   "metadata": {},
   "outputs": [
    {
     "data": {
      "text/plain": [
       "<module 'htr' from '/Users/atadenizaydin/Documents/course material/cs491/nino-server/seg/htr.py'>"
      ]
     },
     "execution_count": 29,
     "metadata": {},
     "output_type": "execute_result"
    }
   ],
   "source": [
    "reload(htr)"
   ]
  },
  {
   "cell_type": "code",
   "execution_count": 42,
   "metadata": {},
   "outputs": [],
   "source": [
    "trec100 = htr.TextRecognizer(lr=1e-3)"
   ]
  },
  {
   "cell_type": "code",
   "execution_count": 43,
   "metadata": {},
   "outputs": [],
   "source": [
    "import torch\n",
    "trec100.rec = torch.nn.DataParallel(trec100.rec)"
   ]
  },
  {
   "cell_type": "code",
   "execution_count": 37,
   "metadata": {},
   "outputs": [],
   "source": [
    "s = iamtr100.samlist[363]\n",
    "bb = np.load(s.path)"
   ]
  },
  {
   "cell_type": "code",
   "execution_count": 38,
   "metadata": {},
   "outputs": [
    {
     "data": {
      "text/plain": [
       "(98, 32, 48)"
      ]
     },
     "execution_count": 38,
     "metadata": {},
     "output_type": "execute_result"
    }
   ],
   "source": [
    "bb.shape"
   ]
  },
  {
   "cell_type": "code",
   "execution_count": 39,
   "metadata": {},
   "outputs": [
    {
     "data": {
      "text/plain": [
       "'the.kitaweTheytoa,inmyofthe.of..Legaat.ainitbegofartheanyintoat.INitsINtoaofMostofaofallforofa.oftoforisa,toinaThislastpointinfrompartsout..dealgreatbut..innottheofistohistheplaytoHehungITforpollthathis.ahadnoheardGambaandthat.Byronup'"
      ]
     },
     "execution_count": 39,
     "metadata": {},
     "output_type": "execute_result"
    }
   ],
   "source": [
    "s.text"
   ]
  },
  {
   "cell_type": "code",
   "execution_count": 40,
   "metadata": {},
   "outputs": [
    {
     "data": {
      "text/plain": [
       "array([3, 1, 3, 1, 2, 4, 2, 1, 1, 2, 2, 2, 3, 1, 2, 1, 1, 4, 2, 1, 1, 2,\n",
       "       2, 2, 2, 3, 3, 3, 2, 2, 2, 1, 2, 3, 2, 2, 1, 2, 4, 2, 1, 2, 3, 3,\n",
       "       2, 1, 1, 2, 2, 3, 2, 1, 1, 2, 2, 1, 4, 4, 5, 2, 4, 5, 3, 1, 1, 4,\n",
       "       5, 3, 1, 1, 2, 3, 3, 2, 2, 2, 3, 3, 4, 2, 2, 4, 2, 3, 4, 4, 3, 1,\n",
       "       1, 3, 2, 5, 5, 3, 4, 1, 5, 2], dtype=int32)"
      ]
     },
     "execution_count": 40,
     "metadata": {},
     "output_type": "execute_result"
    }
   ],
   "source": [
    "s.lengths"
   ]
  },
  {
   "cell_type": "code",
   "execution_count": 41,
   "metadata": {},
   "outputs": [
    {
     "data": {
      "text/plain": [
       "(98,)"
      ]
     },
     "execution_count": 41,
     "metadata": {},
     "output_type": "execute_result"
    }
   ],
   "source": [
    "s.lengths.shape"
   ]
  },
  {
   "cell_type": "code",
   "execution_count": 36,
   "metadata": {},
   "outputs": [
    {
     "data": {
      "text/plain": [
       "tensor(8.6412, grad_fn=<MulBackward0>)"
      ]
     },
     "execution_count": 36,
     "metadata": {},
     "output_type": "execute_result"
    }
   ],
   "source": [
    "trec100.trainbatch(s)"
   ]
  },
  {
   "cell_type": "code",
   "execution_count": 27,
   "metadata": {},
   "outputs": [
    {
     "name": "stdout",
     "output_type": "stream",
     "text": [
      "Iteration 10: 3.298581\n",
      "Iteration 20: 3.152087\n",
      "Iteration 30: 3.420067\n",
      "Iteration 40: 3.287111\n",
      "Iteration 50: 3.271359\n",
      "Iteration 60: 3.339536\n",
      "Iteration 70: 3.145635\n",
      "Iteration 80: 3.129911\n",
      "Iteration 90: 3.176097\n",
      "Iteration 100: 3.091722\n",
      "CPU times: user 29min 37s, sys: 2min 19s, total: 31min 56s\n",
      "Wall time: 1h 21min 39s\n"
     ]
    }
   ],
   "source": [
    "%%time\n",
    "scores100 = trec100.train(iamtr100.samlist[363:463], verbose=10, eps=1)"
   ]
  },
  {
   "cell_type": "code",
   "execution_count": 28,
   "metadata": {},
   "outputs": [
    {
     "data": {
      "image/png": "[encoded data removed]",
      "text/plain": [
       "<matplotlib.figure.Figure at 0x123d41978>"
      ]
     },
     "metadata": {},
     "output_type": "display_data"
    }
   ],
   "source": [
    "plt.plot(scores100)\n",
    "plt.show()"
   ]
  },
  {
   "cell_type": "code",
   "execution_count": 29,
   "metadata": {},
   "outputs": [],
   "source": [
    "torch.save(trec100.rec.state_dict(), iam.topdir + '/trec100_1.pt')"
   ]
  },
  {
   "cell_type": "code",
   "execution_count": 209,
   "metadata": {},
   "outputs": [],
   "source": [
    "trec2 = htr.TextRecognizer(lr=1e-3)\n",
    "trec2.rec = nn.DataParallel(trec2.rec)\n",
    "trec2.rec.load_state_dict(torch.load(iam.topdir + '/trec100_8.pt'))\n",
    "# trec2.rec.load_state_dict(trec100.rec.state_dict())"
   ]
  },
  {
   "cell_type": "code",
   "execution_count": 44,
   "metadata": {},
   "outputs": [
    {
     "name": "stdout",
     "output_type": "stream",
     "text": [
      "Iteration 10: 3.435949\n",
      "Iteration 20: 3.204810\n",
      "Iteration 30: 3.175855\n",
      "Iteration 40: 3.050184\n",
      "Iteration 50: 2.929577\n",
      "Iteration 60: 2.833897\n",
      "Iteration 70: 2.734296\n",
      "Iteration 80: 2.615829\n",
      "Iteration 90: 2.673977\n",
      "Iteration 100: 2.640575\n",
      "CPU times: user 9min 47s, sys: 47.4 s, total: 10min 34s\n",
      "Wall time: 25min 33s\n"
     ]
    }
   ],
   "source": [
    "%%time\n",
    "scores100 = trec100.train(iamtr100.samlist[363:373], verbose=10, eps=10)"
   ]
  },
  {
   "cell_type": "code",
   "execution_count": 45,
   "metadata": {},
   "outputs": [
    {
     "data": {
      "image/png": "[encoded data removed]",
      "text/plain": [
       "<matplotlib.figure.Figure at 0x122008630>"
      ]
     },
     "metadata": {},
     "output_type": "display_data"
    }
   ],
   "source": [
    "plt.plot(scores100)\n",
    "plt.show()"
   ]
  },
  {
   "cell_type": "code",
   "execution_count": 46,
   "metadata": {},
   "outputs": [],
   "source": [
    "torch.save(trec100.rec.state_dict(), iam.topdir + '/trec100_3.pt')"
   ]
  },
  {
   "cell_type": "code",
   "execution_count": 8,
   "metadata": {},
   "outputs": [],
   "source": [
    "trec2 = htr.TextRecognizer(lr=1e-3)\n",
    "trec2.rec = nn.DataParallel(trec2.rec)\n",
    "trec2.rec.load_state_dict(torch.load(iam.topdir + '/trec100_2.pt'))\n",
    "# trec2.rec.load_state_dict(trec100.rec.state_dict())"
   ]
  },
  {
   "cell_type": "code",
   "execution_count": 47,
   "metadata": {
    "scrolled": true
   },
   "outputs": [
    {
     "name": "stdout",
     "output_type": "stream",
     "text": [
      "Iteration 10: 2.419921\n",
      "Iteration 20: 2.107512\n",
      "Iteration 30: 3.243068\n",
      "Iteration 40: 3.052589\n",
      "Iteration 50: 2.593372\n",
      "Iteration 60: 2.065600\n",
      "Iteration 70: 3.288034\n",
      "Iteration 80: 2.837243\n",
      "Iteration 90: 2.391646\n",
      "Iteration 100: 1.960124\n",
      "Iteration 110: 3.189331\n",
      "Iteration 120: 2.740664\n",
      "Iteration 130: 2.208976\n",
      "Iteration 140: 1.901927\n",
      "Iteration 150: 3.034408\n",
      "Iteration 160: 2.782810\n",
      "Iteration 170: 2.131191\n",
      "Iteration 180: 1.833810\n",
      "Iteration 190: 3.010420\n",
      "Iteration 200: 2.778497\n",
      "Iteration 210: 2.060569\n",
      "Iteration 220: 1.757649\n",
      "Iteration 230: 3.015941\n",
      "Iteration 240: 2.837948\n",
      "Iteration 250: 2.130226\n",
      "Iteration 260: 1.695148\n",
      "Iteration 270: 2.744264\n",
      "Iteration 280: 2.715287\n",
      "Iteration 290: 1.932465\n",
      "Iteration 300: 1.648077\n",
      "Iteration 310: 2.742335\n",
      "Iteration 320: 2.532961\n",
      "Iteration 330: 1.759512\n",
      "Iteration 340: 1.596226\n",
      "Iteration 350: 2.611535\n",
      "Iteration 360: 2.627742\n",
      "Iteration 370: 1.717258\n",
      "Iteration 380: 1.520391\n",
      "Iteration 390: 2.744577\n",
      "Iteration 400: 2.472156\n",
      "CPU times: user 33min 52s, sys: 2min 36s, total: 36min 29s\n",
      "Wall time: 1h 3min 29s\n"
     ]
    }
   ],
   "source": [
    "%%time\n",
    "scores2 = trec100.train(iamtr100.samlist[363:403], verbose=10, eps=10)"
   ]
  },
  {
   "cell_type": "code",
   "execution_count": 48,
   "metadata": {},
   "outputs": [
    {
     "data": {
      "image/png": "[encoded data removed]",
      "text/plain": [
       "<matplotlib.figure.Figure at 0x128ecf160>"
      ]
     },
     "metadata": {},
     "output_type": "display_data"
    }
   ],
   "source": [
    "plt.plot(scores2)\n",
    "plt.show()"
   ]
  },
  {
   "cell_type": "code",
   "execution_count": 82,
   "metadata": {},
   "outputs": [],
   "source": [
    "torch.save(trec100.rec.state_dict(), iam.topdir + '/trec100_8.pt')"
   ]
  },
  {
   "cell_type": "code",
   "execution_count": 50,
   "metadata": {
    "scrolled": true
   },
   "outputs": [
    {
     "name": "stdout",
     "output_type": "stream",
     "text": [
      "Iteration 10: 1.614214\n",
      "Iteration 20: 1.335110\n",
      "Iteration 30: 2.630156\n",
      "Iteration 40: 2.418713\n",
      "Iteration 50: 2.503980\n",
      "Iteration 60: 2.636527\n",
      "Iteration 70: 2.229205\n",
      "Iteration 80: 2.111263\n",
      "Iteration 90: 1.914337\n",
      "Iteration 100: 2.003268\n",
      "Iteration 110: 1.350953\n",
      "Iteration 120: 1.260215\n",
      "Iteration 130: 2.752114\n",
      "Iteration 140: 2.166148\n",
      "Iteration 150: 2.371261\n",
      "Iteration 160: 2.455833\n",
      "Iteration 170: 2.011900\n",
      "Iteration 180: 1.922797\n",
      "Iteration 190: 1.770080\n",
      "Iteration 200: 1.820625\n",
      "Iteration 210: 1.164338\n",
      "Iteration 220: 1.097048\n",
      "Iteration 230: 2.455754\n",
      "Iteration 240: 2.033392\n",
      "Iteration 250: 2.205728\n",
      "Iteration 260: 2.207094\n",
      "Iteration 270: 1.747822\n",
      "Iteration 280: 1.694297\n",
      "Iteration 290: 1.532416\n",
      "Iteration 300: 1.643464\n",
      "Iteration 310: 1.153218\n",
      "Iteration 320: 0.985474\n",
      "Iteration 330: 2.220833\n",
      "Iteration 340: 1.864210\n",
      "Iteration 350: 2.089404\n",
      "Iteration 360: 2.082698\n",
      "Iteration 370: 1.609062\n",
      "Iteration 380: 1.592666\n",
      "Iteration 390: 1.436241\n",
      "Iteration 400: 1.459666\n",
      "Iteration 410: 1.032443\n",
      "Iteration 420: 1.044041\n",
      "Iteration 430: 2.330276\n",
      "Iteration 440: 1.781022\n",
      "Iteration 450: 1.925241\n",
      "Iteration 460: 1.944034\n",
      "Iteration 470: 1.480010\n",
      "Iteration 480: 1.444257\n",
      "Iteration 490: 1.225322\n",
      "Iteration 500: 1.380669\n",
      "Iteration 510: 0.878327\n",
      "Iteration 520: 0.716531\n",
      "Iteration 530: 2.475361\n",
      "Iteration 540: 1.555973\n",
      "Iteration 550: 1.783135\n",
      "Iteration 560: 1.788264\n",
      "Iteration 570: 1.351271\n",
      "Iteration 580: 1.324640\n",
      "Iteration 590: 1.088507\n",
      "Iteration 600: 1.261106\n",
      "Iteration 610: 0.774926\n",
      "Iteration 620: 0.626100\n",
      "Iteration 630: 2.158008\n",
      "Iteration 640: 1.604857\n",
      "Iteration 650: 1.667821\n",
      "Iteration 660: 1.656319\n",
      "Iteration 670: 1.237310\n",
      "Iteration 680: 1.178466\n",
      "Iteration 690: 1.006264\n",
      "Iteration 700: 1.158845\n",
      "Iteration 710: 0.675164\n",
      "Iteration 720: 0.588974\n",
      "Iteration 730: 2.200357\n",
      "Iteration 740: 1.472307\n",
      "Iteration 750: 1.601921\n",
      "Iteration 760: 1.522926\n",
      "Iteration 770: 1.186046\n",
      "Iteration 780: 1.084437\n",
      "Iteration 790: 0.891909\n",
      "Iteration 800: 1.043593\n",
      "Iteration 810: 0.584814\n",
      "Iteration 820: 0.483821\n",
      "Iteration 830: 2.348458\n",
      "Iteration 840: 1.437285\n",
      "Iteration 850: 1.601259\n",
      "Iteration 860: 1.473487\n",
      "Iteration 870: 1.062046\n",
      "Iteration 880: 1.029215\n",
      "Iteration 890: 0.848617\n",
      "Iteration 900: 0.942450\n",
      "Iteration 910: 0.589554\n",
      "Iteration 920: 0.420228\n",
      "Iteration 930: 2.234133\n",
      "Iteration 940: 1.375102\n",
      "Iteration 950: 1.420128\n",
      "Iteration 960: 1.309152\n",
      "Iteration 970: 0.988060\n",
      "Iteration 980: 1.009104\n",
      "Iteration 990: 0.744333\n",
      "Iteration 1000: 0.895966\n",
      "CPU times: user 1h 38min 21s, sys: 6min 56s, total: 1h 45min 18s\n",
      "Wall time: 2h 33min 31s\n"
     ]
    }
   ],
   "source": [
    "%%time\n",
    "scores100 = trec100.train(iamtr100.samlist[363:463], verbose=10, eps=10)"
   ]
  },
  {
   "cell_type": "code",
   "execution_count": 51,
   "metadata": {},
   "outputs": [
    {
     "data": {
      "image/png": "[encoded data removed]",
      "text/plain": [
       "<matplotlib.figure.Figure at 0x129062978>"
      ]
     },
     "metadata": {},
     "output_type": "display_data"
    }
   ],
   "source": [
    "plt.plot(scores100)\n",
    "plt.show()"
   ]
  },
  {
   "cell_type": "code",
   "execution_count": 53,
   "metadata": {
    "scrolled": true
   },
   "outputs": [
    {
     "name": "stdout",
     "output_type": "stream",
     "text": [
      "Iteration 10: 0.515363\n",
      "Iteration 20: 0.498622\n",
      "Iteration 30: 2.185720\n",
      "Iteration 40: 1.302027\n",
      "Iteration 50: 1.335064\n",
      "Iteration 60: 1.268526\n",
      "Iteration 70: 0.903863\n",
      "Iteration 80: 0.857102\n",
      "Iteration 90: 0.654280\n",
      "Iteration 100: 0.799947\n",
      "Iteration 110: 0.405746\n",
      "Iteration 120: 0.304444\n",
      "Iteration 130: 2.295399\n",
      "Iteration 140: 1.040665\n",
      "Iteration 150: 1.272202\n",
      "Iteration 160: 1.159400\n",
      "Iteration 170: 0.814589\n",
      "Iteration 180: 0.802324\n",
      "Iteration 190: 0.583704\n",
      "Iteration 200: 0.721151\n",
      "Iteration 210: 0.315688\n",
      "Iteration 220: 0.313734\n",
      "Iteration 230: 2.084915\n",
      "Iteration 240: 0.969834\n",
      "Iteration 250: 1.247323\n",
      "Iteration 260: 1.025308\n",
      "Iteration 270: 0.747379\n",
      "Iteration 280: 0.739567\n",
      "Iteration 290: 0.514823\n",
      "Iteration 300: 0.670415\n",
      "Iteration 310: 0.290037\n",
      "Iteration 320: 0.239566\n",
      "Iteration 330: 1.940176\n",
      "Iteration 340: 0.940471\n",
      "Iteration 350: 1.148716\n",
      "Iteration 360: 1.085874\n",
      "Iteration 370: 0.640565\n",
      "Iteration 380: 0.714090\n",
      "Iteration 390: 0.453474\n",
      "Iteration 400: 0.555522\n",
      "Iteration 410: 0.299496\n",
      "Iteration 420: 0.219876\n",
      "Iteration 430: 1.806957\n",
      "Iteration 440: 0.850395\n",
      "Iteration 450: 1.100446\n",
      "Iteration 460: 1.001243\n",
      "Iteration 470: 0.594121\n",
      "Iteration 480: 0.653797\n",
      "Iteration 490: 0.434734\n",
      "Iteration 500: 0.529879\n",
      "CPU times: user 43min 38s, sys: 3min 27s, total: 47min 5s\n",
      "Wall time: 39min 24s\n"
     ]
    }
   ],
   "source": [
    "%%time\n",
    "scores100 = trec100.train(iamtr100.samlist[363:463], verbose=10, eps=5)"
   ]
  },
  {
   "cell_type": "code",
   "execution_count": 54,
   "metadata": {},
   "outputs": [
    {
     "data": {
      "image/png": "[encoded data removed]",
      "text/plain": [
       "<matplotlib.figure.Figure at 0x107289358>"
      ]
     },
     "metadata": {},
     "output_type": "display_data"
    }
   ],
   "source": [
    "plt.plot(scores100)\n",
    "plt.show()"
   ]
  },
  {
   "cell_type": "code",
   "execution_count": 76,
   "metadata": {
    "scrolled": true
   },
   "outputs": [
    {
     "name": "stdout",
     "output_type": "stream",
     "text": [
      "Iteration 10: 1.191248\n",
      "Iteration 20: 1.053387\n",
      "Iteration 30: 0.677954\n",
      "Iteration 40: 1.061237\n",
      "Iteration 50: 1.246740\n",
      "Iteration 60: 0.840089\n",
      "Iteration 70: 1.582201\n",
      "Iteration 80: 0.914240\n",
      "Iteration 90: 1.119523\n",
      "Iteration 100: 2.298021\n",
      "Iteration 110: 0.976728\n",
      "Iteration 120: 0.919885\n",
      "Iteration 130: 0.510146\n",
      "Iteration 140: 0.793934\n",
      "Iteration 150: 0.896151\n",
      "Iteration 160: 0.681928\n",
      "Iteration 170: 1.176524\n",
      "Iteration 180: 0.742128\n",
      "Iteration 190: 0.862145\n",
      "Iteration 200: 1.558716\n",
      "Iteration 210: 0.736161\n",
      "Iteration 220: 0.641986\n",
      "Iteration 230: 0.358177\n",
      "Iteration 240: 0.673459\n",
      "Iteration 250: 0.728526\n",
      "Iteration 260: 0.546498\n",
      "Iteration 270: 0.821362\n",
      "Iteration 280: 0.655877\n",
      "Iteration 290: 0.604526\n",
      "Iteration 300: 1.297035\n",
      "Iteration 310: 0.612211\n",
      "Iteration 320: 0.520915\n",
      "Iteration 330: 0.284221\n",
      "Iteration 340: 0.489163\n",
      "Iteration 350: 0.578702\n",
      "Iteration 360: 0.476158\n",
      "Iteration 370: 0.714409\n",
      "Iteration 380: 0.534390\n",
      "Iteration 390: 0.511467\n",
      "Iteration 400: 1.141918\n",
      "Iteration 410: 0.488794\n",
      "Iteration 420: 0.436431\n",
      "Iteration 430: 0.224761\n",
      "Iteration 440: 0.403234\n",
      "Iteration 450: 0.417164\n",
      "Iteration 460: 0.426434\n",
      "Iteration 470: 0.614342\n",
      "Iteration 480: 0.484541\n",
      "Iteration 490: 0.489172\n",
      "Iteration 500: 0.987831\n",
      "CPU times: user 49min 48s, sys: 4min 10s, total: 53min 58s\n",
      "Wall time: 47min 9s\n"
     ]
    }
   ],
   "source": [
    "%%time\n",
    "scores100 = trec100.train(iamtr100.samlist[463:563], verbose=10, eps=5)"
   ]
  },
  {
   "cell_type": "code",
   "execution_count": 77,
   "metadata": {},
   "outputs": [
    {
     "data": {
      "image/png": "[encoded data removed]",
      "text/plain": [
       "<matplotlib.figure.Figure at 0x127ee22e8>"
      ]
     },
     "metadata": {},
     "output_type": "display_data"
    }
   ],
   "source": [
    "plt.plot(scores100)\n",
    "plt.show()"
   ]
  },
  {
   "cell_type": "code",
   "execution_count": 79,
   "metadata": {
    "scrolled": true
   },
   "outputs": [
    {
     "name": "stdout",
     "output_type": "stream",
     "text": [
      "Iteration 10: 0.378236\n",
      "Iteration 20: 0.246461\n",
      "Iteration 30: 2.370189\n",
      "Iteration 40: 0.933090\n",
      "Iteration 50: 1.089069\n",
      "Iteration 60: 0.982773\n",
      "Iteration 70: 0.707705\n",
      "Iteration 80: 0.835767\n",
      "Iteration 90: 0.488134\n",
      "Iteration 100: 0.587190\n",
      "Iteration 110: 0.592298\n",
      "Iteration 120: 0.457837\n",
      "Iteration 130: 0.225992\n",
      "Iteration 140: 0.474182\n",
      "Iteration 150: 0.505938\n",
      "Iteration 160: 0.350991\n",
      "Iteration 170: 0.682807\n",
      "Iteration 180: 0.458711\n",
      "Iteration 190: 0.435853\n",
      "Iteration 200: 1.023430\n",
      "Iteration 210: 0.262945\n",
      "Iteration 220: 0.279752\n",
      "Iteration 230: 2.065020\n",
      "Iteration 240: 0.826193\n",
      "Iteration 250: 0.852902\n",
      "Iteration 260: 0.830761\n",
      "Iteration 270: 0.506113\n",
      "Iteration 280: 0.671126\n",
      "Iteration 290: 0.355709\n",
      "Iteration 300: 0.472557\n",
      "Iteration 310: 0.455471\n",
      "Iteration 320: 0.399867\n",
      "Iteration 330: 0.173460\n",
      "Iteration 340: 0.382118\n",
      "Iteration 350: 0.405437\n",
      "Iteration 360: 0.334699\n",
      "Iteration 370: 0.553876\n",
      "Iteration 380: 0.367412\n",
      "Iteration 390: 0.413066\n",
      "Iteration 400: 0.875785\n",
      "Iteration 410: 0.202841\n",
      "Iteration 420: 0.227414\n",
      "Iteration 430: 2.028537\n",
      "Iteration 440: 0.627899\n",
      "Iteration 450: 0.828604\n",
      "Iteration 460: 0.728748\n",
      "Iteration 470: 0.426423\n",
      "Iteration 480: 0.490223\n",
      "Iteration 490: 0.284526\n",
      "Iteration 500: 0.342569\n",
      "Iteration 510: 0.375700\n",
      "Iteration 520: 0.310541\n",
      "Iteration 530: 0.115364\n",
      "Iteration 540: 0.317342\n",
      "Iteration 550: 0.379079\n",
      "Iteration 560: 0.284609\n",
      "Iteration 570: 0.467645\n",
      "Iteration 580: 0.325007\n",
      "Iteration 590: 0.317622\n",
      "Iteration 600: 0.776614\n",
      "Iteration 610: 0.192483\n",
      "Iteration 620: 0.125008\n",
      "Iteration 630: 1.517448\n",
      "Iteration 640: 0.615474\n",
      "Iteration 650: 0.704208\n",
      "Iteration 660: 0.729844\n",
      "Iteration 670: 0.351660\n",
      "Iteration 680: 0.417881\n",
      "Iteration 690: 0.243050\n",
      "Iteration 700: 0.315857\n",
      "Iteration 710: 0.298713\n",
      "Iteration 720: 0.278087\n",
      "Iteration 730: 0.103057\n",
      "Iteration 740: 0.252204\n",
      "Iteration 750: 0.269318\n",
      "Iteration 760: 0.239026\n",
      "Iteration 770: 0.420786\n",
      "Iteration 780: 0.330891\n",
      "Iteration 790: 0.324110\n",
      "Iteration 800: 0.625993\n",
      "Iteration 810: 0.116944\n",
      "Iteration 820: 0.103648\n",
      "Iteration 830: 1.751997\n",
      "Iteration 840: 0.409586\n",
      "Iteration 850: 0.668649\n",
      "Iteration 860: 0.604023\n",
      "Iteration 870: 0.316891\n",
      "Iteration 880: 0.384402\n",
      "Iteration 890: 0.186266\n",
      "Iteration 900: 0.250350\n",
      "Iteration 910: 0.264729\n",
      "Iteration 920: 0.249586\n",
      "Iteration 930: 0.112172\n",
      "Iteration 940: 0.230350\n",
      "Iteration 950: 0.254599\n",
      "Iteration 960: 0.202106\n",
      "Iteration 970: 0.394264\n",
      "Iteration 980: 0.302561\n",
      "Iteration 990: 0.238831\n",
      "Iteration 1000: 0.586236\n",
      "Iteration 1010: 0.097647\n",
      "Iteration 1020: 0.070909\n",
      "Iteration 1030: 1.172752\n",
      "Iteration 1040: 0.390795\n",
      "Iteration 1050: 0.640391\n",
      "Iteration 1060: 0.510607\n",
      "Iteration 1070: 0.232809\n",
      "Iteration 1080: 0.404196\n",
      "Iteration 1090: 0.180082\n",
      "Iteration 1100: 0.251494\n",
      "Iteration 1110: 0.238743\n",
      "Iteration 1120: 0.225250\n",
      "Iteration 1130: 0.079010\n",
      "Iteration 1140: 0.248275\n",
      "Iteration 1150: 0.210973\n",
      "Iteration 1160: 0.170992\n",
      "Iteration 1170: 0.343725\n",
      "Iteration 1180: 0.195313\n",
      "Iteration 1190: 0.226798\n",
      "Iteration 1200: 0.555065\n",
      "Iteration 1210: 0.084088\n",
      "Iteration 1220: 0.123699\n",
      "Iteration 1230: 1.517473\n",
      "Iteration 1240: 0.377276\n",
      "Iteration 1250: 0.585737\n",
      "Iteration 1260: 0.487495\n",
      "Iteration 1270: 0.202104\n",
      "Iteration 1280: 0.306654\n",
      "Iteration 1290: 0.185228\n",
      "Iteration 1300: 0.189631\n",
      "Iteration 1310: 0.209005\n",
      "Iteration 1320: 0.197861\n",
      "Iteration 1330: 0.075827\n",
      "Iteration 1340: 0.207077\n",
      "Iteration 1350: 0.193456\n",
      "Iteration 1360: 0.139773\n",
      "Iteration 1370: 0.309438\n",
      "Iteration 1380: 0.211717\n",
      "Iteration 1390: 0.257101\n",
      "Iteration 1400: 0.553505\n",
      "Iteration 1410: 0.078608\n",
      "Iteration 1420: 0.059228\n",
      "Iteration 1430: 1.031243\n",
      "Iteration 1440: 0.298983\n",
      "Iteration 1450: 0.507245\n",
      "Iteration 1460: 0.454874\n",
      "Iteration 1470: 0.210476\n",
      "Iteration 1480: 0.242343\n",
      "Iteration 1490: 0.154022\n",
      "Iteration 1500: 0.187779\n",
      "Iteration 1510: 0.189957\n",
      "Iteration 1520: 0.193040\n",
      "Iteration 1530: 0.068662\n",
      "Iteration 1540: 0.187808\n",
      "Iteration 1550: 0.150317\n",
      "Iteration 1560: 0.171380\n",
      "Iteration 1570: 0.348619\n",
      "Iteration 1580: 0.166292\n",
      "Iteration 1590: 0.192474\n",
      "Iteration 1600: 0.577459\n",
      "Iteration 1610: 0.082357\n",
      "Iteration 1620: 0.080877\n",
      "Iteration 1630: 0.953341\n",
      "Iteration 1640: 0.287653\n",
      "Iteration 1650: 0.519243\n",
      "Iteration 1660: 0.424067\n",
      "Iteration 1670: 0.268788\n",
      "Iteration 1680: 0.270989\n",
      "Iteration 1690: 0.188026\n",
      "Iteration 1700: 0.177621\n",
      "Iteration 1710: 0.178061\n",
      "Iteration 1720: 0.161008\n",
      "Iteration 1730: 0.054191\n",
      "Iteration 1740: 0.165475\n",
      "Iteration 1750: 0.167741\n",
      "Iteration 1760: 0.159901\n",
      "Iteration 1770: 0.242010\n",
      "Iteration 1780: 0.130408\n",
      "Iteration 1790: 0.191374\n",
      "Iteration 1800: 0.491638\n",
      "Iteration 1810: 0.052290\n",
      "Iteration 1820: 0.040695\n",
      "Iteration 1830: 0.938957\n",
      "Iteration 1840: 0.252422\n",
      "Iteration 1850: 0.533179\n",
      "Iteration 1860: 0.425892\n",
      "Iteration 1870: 0.177023\n",
      "Iteration 1880: 0.289215\n",
      "Iteration 1890: 0.153875\n",
      "Iteration 1900: 0.210155\n",
      "Iteration 1910: 0.176952\n",
      "Iteration 1920: 0.138578\n",
      "Iteration 1930: 0.046298\n",
      "Iteration 1940: 0.117746\n",
      "Iteration 1950: 0.164384\n",
      "Iteration 1960: 0.128429\n",
      "Iteration 1970: 0.200629\n",
      "Iteration 1980: 0.127112\n",
      "Iteration 1990: 0.166893\n",
      "Iteration 2000: 0.395601\n"
     ]
    },
    {
     "data": {
      "image/png": "[encoded data removed]",
      "text/plain": [
       "<matplotlib.figure.Figure at 0x127f6ad30>"
      ]
     },
     "metadata": {},
     "output_type": "display_data"
    },
    {
     "name": "stdout",
     "output_type": "stream",
     "text": [
      "CPU times: user 3h 23min 30s, sys: 16min 59s, total: 3h 40min 29s\n",
      "Wall time: 5h 58s\n"
     ]
    }
   ],
   "source": [
    "%%time\n",
    "scores100 = trec100.train(iamtr100.samlist[363:563], verbose=10, eps=10)\n",
    "plt.plot(scores100)\n",
    "plt.show()"
   ]
  },
  {
   "cell_type": "code",
   "execution_count": 81,
   "metadata": {
    "scrolled": true
   },
   "outputs": [
    {
     "name": "stdout",
     "output_type": "stream",
     "text": [
      "Iteration 10: 0.065257\n",
      "Iteration 20: 0.046730\n",
      "Iteration 30: 1.291814\n",
      "Iteration 40: 0.237045\n",
      "Iteration 50: 0.488015\n",
      "Iteration 60: 0.290047\n",
      "Iteration 70: 0.193552\n",
      "Iteration 80: 0.235025\n",
      "Iteration 90: 0.112574\n",
      "Iteration 100: 0.158492\n",
      "Iteration 110: 0.150775\n",
      "Iteration 120: 0.126199\n",
      "Iteration 130: 0.049860\n",
      "Iteration 140: 0.098647\n",
      "Iteration 150: 0.125122\n",
      "Iteration 160: 0.103361\n",
      "Iteration 170: 0.219729\n",
      "Iteration 180: 0.116621\n",
      "Iteration 190: 0.129490\n",
      "Iteration 200: 0.303490\n",
      "Iteration 210: 1.435127\n",
      "Iteration 220: 1.335931\n",
      "Iteration 230: 1.561493\n",
      "Iteration 240: 1.294226\n",
      "Iteration 250: 1.004864\n",
      "Iteration 260: 1.122933\n",
      "Iteration 270: 1.124752\n",
      "Iteration 280: 0.920583\n",
      "Iteration 290: 1.087582\n",
      "Iteration 300: 0.788324\n",
      "Iteration 310: 0.824534\n",
      "Iteration 320: 1.034130\n",
      "Iteration 330: 0.696821\n",
      "Iteration 340: 0.989422\n",
      "Iteration 350: 1.049955\n",
      "Iteration 360: 1.068124\n",
      "Iteration 370: 0.966143\n",
      "Iteration 380: 1.061049\n",
      "Iteration 390: 0.911284\n",
      "Iteration 400: 0.962566\n",
      "Iteration 410: 0.177879\n",
      "Iteration 420: 0.226270\n",
      "Iteration 430: 1.357237\n",
      "Iteration 440: 0.386453\n",
      "Iteration 450: 0.731996\n",
      "Iteration 460: 0.511325\n",
      "Iteration 470: 0.292670\n",
      "Iteration 480: 0.292840\n",
      "Iteration 490: 0.174706\n",
      "Iteration 500: 0.230612\n",
      "Iteration 510: 0.239846\n",
      "Iteration 520: 0.204724\n",
      "Iteration 530: 0.048943\n",
      "Iteration 540: 0.190964\n",
      "Iteration 550: 0.163224\n",
      "Iteration 560: 0.138768\n",
      "Iteration 570: 0.200771\n",
      "Iteration 580: 0.179321\n",
      "Iteration 590: 0.169279\n",
      "Iteration 600: 0.494475\n",
      "Iteration 610: 0.740869\n",
      "Iteration 620: 0.819643\n",
      "Iteration 630: 1.062478\n",
      "Iteration 640: 0.784213\n",
      "Iteration 650: 0.686357\n",
      "Iteration 660: 0.838146\n",
      "Iteration 670: 0.875250\n",
      "Iteration 680: 0.602902\n",
      "Iteration 690: 0.669772\n",
      "Iteration 700: 0.709391\n",
      "Iteration 710: 0.560949\n",
      "Iteration 720: 0.699362\n",
      "Iteration 730: 0.517160\n",
      "Iteration 740: 0.784072\n",
      "Iteration 750: 0.771506\n",
      "Iteration 760: 0.774777\n",
      "Iteration 770: 0.867990\n",
      "Iteration 780: 0.817238\n",
      "Iteration 790: 0.693866\n",
      "Iteration 800: 0.724925\n",
      "Iteration 810: 0.151806\n",
      "Iteration 820: 0.117163\n",
      "Iteration 830: 1.383847\n",
      "Iteration 840: 0.298804\n",
      "Iteration 850: 0.529728\n",
      "Iteration 860: 0.452024\n",
      "Iteration 870: 0.230390\n",
      "Iteration 880: 0.271285\n",
      "Iteration 890: 0.122698\n",
      "Iteration 900: 0.173052\n",
      "Iteration 910: 0.206776\n",
      "Iteration 920: 0.145824\n",
      "Iteration 930: 0.048574\n",
      "Iteration 940: 0.148120\n",
      "Iteration 950: 0.137047\n",
      "Iteration 960: 0.107777\n",
      "Iteration 970: 0.211480\n",
      "Iteration 980: 0.120036\n",
      "Iteration 990: 0.119015\n",
      "Iteration 1000: 0.421835\n",
      "Iteration 1010: 0.444772\n",
      "Iteration 1020: 0.616726\n",
      "Iteration 1030: 0.762043\n",
      "Iteration 1040: 0.549356\n",
      "Iteration 1050: 0.441949\n",
      "Iteration 1060: 0.492283\n",
      "Iteration 1070: 0.647052\n",
      "Iteration 1080: 0.451099\n",
      "Iteration 1090: 0.440048\n",
      "Iteration 1100: 0.455455\n",
      "Iteration 1110: 0.426453\n",
      "Iteration 1120: 0.550703\n",
      "Iteration 1130: 0.331377\n",
      "Iteration 1140: 0.690175\n",
      "Iteration 1150: 0.573166\n",
      "Iteration 1160: 0.624537\n",
      "Iteration 1170: 0.592556\n",
      "Iteration 1180: 0.573892\n",
      "Iteration 1190: 0.571803\n",
      "Iteration 1200: 0.556520\n",
      "Iteration 1210: 0.053898\n",
      "Iteration 1220: 0.053994\n",
      "Iteration 1230: 1.100018\n",
      "Iteration 1240: 0.245910\n",
      "Iteration 1250: 0.493079\n",
      "Iteration 1260: 0.382679\n",
      "Iteration 1270: 0.144726\n",
      "Iteration 1280: 0.198333\n",
      "Iteration 1290: 0.107820\n",
      "Iteration 1300: 0.146804\n",
      "Iteration 1310: 0.156158\n",
      "Iteration 1320: 0.118325\n",
      "Iteration 1330: 0.051194\n",
      "Iteration 1340: 0.117696\n",
      "Iteration 1350: 0.116201\n",
      "Iteration 1360: 0.100870\n",
      "Iteration 1370: 0.153550\n",
      "Iteration 1380: 0.091661\n",
      "Iteration 1390: 0.119734\n",
      "Iteration 1400: 0.314378\n",
      "Iteration 1410: 0.309022\n",
      "Iteration 1420: 0.420370\n",
      "Iteration 1430: 0.618096\n",
      "Iteration 1440: 0.397314\n",
      "Iteration 1450: 0.345739\n",
      "Iteration 1460: 0.411869\n",
      "Iteration 1470: 0.594190\n",
      "Iteration 1480: 0.344480\n",
      "Iteration 1490: 0.334638\n",
      "Iteration 1500: 0.338779\n",
      "Iteration 1510: 0.334695\n",
      "Iteration 1520: 0.412191\n",
      "Iteration 1530: 0.268642\n",
      "Iteration 1540: 0.598750\n",
      "Iteration 1550: 0.498742\n",
      "Iteration 1560: 0.530033\n",
      "Iteration 1570: 0.522977\n",
      "Iteration 1580: 0.513089\n",
      "Iteration 1590: 0.467430\n",
      "Iteration 1600: 0.493557\n",
      "Iteration 1610: 0.058888\n",
      "Iteration 1620: 0.052142\n",
      "Iteration 1630: 1.013825\n",
      "Iteration 1640: 0.220601\n",
      "Iteration 1650: 0.470230\n",
      "Iteration 1660: 0.254981\n",
      "Iteration 1670: 0.116410\n",
      "Iteration 1680: 0.142299\n",
      "Iteration 1690: 0.101037\n",
      "Iteration 1700: 0.104046\n",
      "Iteration 1710: 0.154519\n",
      "Iteration 1720: 0.093252\n",
      "Iteration 1730: 0.040895\n",
      "Iteration 1740: 0.089663\n",
      "Iteration 1750: 0.081608\n",
      "Iteration 1760: 0.075966\n",
      "Iteration 1770: 0.128653\n",
      "Iteration 1780: 0.074107\n",
      "Iteration 1790: 0.091840\n",
      "Iteration 1800: 0.229373\n",
      "Iteration 1810: 0.266501\n",
      "Iteration 1820: 0.346578\n",
      "Iteration 1830: 0.507681\n",
      "Iteration 1840: 0.291858\n",
      "Iteration 1850: 0.271246\n",
      "Iteration 1860: 0.394195\n",
      "Iteration 1870: 0.442844\n",
      "Iteration 1880: 0.275432\n",
      "Iteration 1890: 0.258661\n",
      "Iteration 1900: 0.277841\n",
      "Iteration 1910: 0.300252\n",
      "Iteration 1920: 0.276195\n",
      "Iteration 1930: 0.203278\n",
      "Iteration 1940: 0.441427\n",
      "Iteration 1950: 0.357776\n",
      "Iteration 1960: 0.443053\n",
      "Iteration 1970: 0.412858\n",
      "Iteration 1980: 0.362405\n",
      "Iteration 1990: 0.368033\n",
      "Iteration 2000: 0.368761\n",
      "Iteration 2010: 0.041483\n",
      "Iteration 2020: 0.024419\n",
      "Iteration 2030: 0.945894\n",
      "Iteration 2040: 0.177495\n",
      "Iteration 2050: 0.405490\n",
      "Iteration 2060: 0.229077\n",
      "Iteration 2070: 0.129024\n",
      "Iteration 2080: 0.111799\n",
      "Iteration 2090: 0.091222\n",
      "Iteration 2100: 0.125723\n",
      "Iteration 2110: 0.104765\n",
      "Iteration 2120: 0.065111\n",
      "Iteration 2130: 0.025942\n",
      "Iteration 2140: 0.078831\n",
      "Iteration 2150: 0.069252\n",
      "Iteration 2160: 0.076612\n",
      "Iteration 2170: 0.143154\n",
      "Iteration 2180: 0.087612\n",
      "Iteration 2190: 0.128573\n",
      "Iteration 2200: 0.220751\n",
      "Iteration 2210: 0.225721\n",
      "Iteration 2220: 0.336860\n",
      "Iteration 2230: 0.464658\n",
      "Iteration 2240: 0.318577\n",
      "Iteration 2250: 0.219715\n",
      "Iteration 2260: 0.291073\n",
      "Iteration 2270: 0.438290\n",
      "Iteration 2280: 0.249350\n",
      "Iteration 2290: 0.271275\n",
      "Iteration 2300: 0.223326\n",
      "Iteration 2310: 0.257518\n",
      "Iteration 2320: 0.289848\n",
      "Iteration 2330: 0.183534\n",
      "Iteration 2340: 0.396794\n",
      "Iteration 2350: 0.313119\n",
      "Iteration 2360: 0.375107\n",
      "Iteration 2370: 0.382124\n",
      "Iteration 2380: 0.364565\n",
      "Iteration 2390: 0.316770\n",
      "Iteration 2400: 0.319929\n",
      "Iteration 2410: 0.055906\n",
      "Iteration 2420: 0.078646\n",
      "Iteration 2430: 0.663705\n",
      "Iteration 2440: 0.160964\n",
      "Iteration 2450: 0.391302\n",
      "Iteration 2460: 0.233070\n",
      "Iteration 2470: 0.130200\n",
      "Iteration 2480: 0.143127\n",
      "Iteration 2490: 0.080780\n",
      "Iteration 2500: 0.079706\n",
      "Iteration 2510: 0.094590\n",
      "Iteration 2520: 0.071799\n",
      "Iteration 2530: 0.029325\n",
      "Iteration 2540: 0.085497\n",
      "Iteration 2550: 0.069372\n",
      "Iteration 2560: 0.066236\n",
      "Iteration 2570: 0.115626\n",
      "Iteration 2580: 0.056227\n",
      "Iteration 2590: 0.088183\n",
      "Iteration 2600: 0.195335\n",
      "Iteration 2610: 0.163225\n",
      "Iteration 2620: 0.280539\n",
      "Iteration 2630: 0.526929\n",
      "Iteration 2640: 0.238605\n",
      "Iteration 2650: 0.236543\n",
      "Iteration 2660: 0.269245\n",
      "Iteration 2670: 0.364017\n",
      "Iteration 2680: 0.200852\n",
      "Iteration 2690: 0.240564\n",
      "Iteration 2700: 0.187408\n",
      "Iteration 2710: 0.224286\n",
      "Iteration 2720: 0.234255\n",
      "Iteration 2730: 0.168529\n",
      "Iteration 2740: 0.364187\n",
      "Iteration 2750: 0.341320\n",
      "Iteration 2760: 0.317673\n",
      "Iteration 2770: 0.325726\n",
      "Iteration 2780: 0.309602\n",
      "Iteration 2790: 0.287776\n",
      "Iteration 2800: 0.265490\n",
      "Iteration 2810: 0.026843\n",
      "Iteration 2820: 0.035268\n",
      "Iteration 2830: 0.506428\n",
      "Iteration 2840: 0.158171\n",
      "Iteration 2850: 0.408125\n",
      "Iteration 2860: 0.187977\n",
      "Iteration 2870: 0.066820\n",
      "Iteration 2880: 0.110451\n",
      "Iteration 2890: 0.071019\n",
      "Iteration 2900: 0.077330\n",
      "Iteration 2910: 0.108109\n",
      "Iteration 2920: 0.056203\n",
      "Iteration 2930: 0.028502\n",
      "Iteration 2940: 0.078833\n",
      "Iteration 2950: 0.069413\n",
      "Iteration 2960: 0.047593\n",
      "Iteration 2970: 0.118398\n",
      "Iteration 2980: 0.071357\n",
      "Iteration 2990: 0.095223\n",
      "Iteration 3000: 0.212692\n",
      "Iteration 3010: 0.193596\n",
      "Iteration 3020: 0.255563\n",
      "Iteration 3030: 0.360144\n",
      "Iteration 3040: 0.220239\n",
      "Iteration 3050: 0.177442\n",
      "Iteration 3060: 0.222189\n",
      "Iteration 3070: 0.348694\n",
      "Iteration 3080: 0.207123\n",
      "Iteration 3090: 0.186163\n",
      "Iteration 3100: 0.165215\n",
      "Iteration 3110: 0.183355\n",
      "Iteration 3120: 0.219041\n",
      "Iteration 3130: 0.128027\n",
      "Iteration 3140: 0.327624\n",
      "Iteration 3150: 0.269457\n",
      "Iteration 3160: 0.289305\n",
      "Iteration 3170: 0.322232\n",
      "Iteration 3180: 0.292185\n",
      "Iteration 3190: 0.277164\n",
      "Iteration 3200: 0.245382\n",
      "Iteration 3210: 0.045962\n",
      "Iteration 3220: 0.027053\n",
      "Iteration 3230: 0.384174\n",
      "Iteration 3240: 0.105613\n",
      "Iteration 3250: 0.343414\n",
      "Iteration 3260: 0.167157\n",
      "Iteration 3270: 0.061030\n",
      "Iteration 3280: 0.078566\n",
      "Iteration 3290: 0.042999\n",
      "Iteration 3300: 0.071017\n",
      "Iteration 3310: 0.090360\n",
      "Iteration 3320: 0.070431\n",
      "Iteration 3330: 0.039268\n"
     ]
    },
    {
     "name": "stdout",
     "output_type": "stream",
     "text": [
      "Iteration 3340: 0.059202\n",
      "Iteration 3350: 0.063481\n",
      "Iteration 3360: 0.061898\n",
      "Iteration 3370: 0.062663\n",
      "Iteration 3380: 0.064974\n",
      "Iteration 3390: 0.055518\n",
      "Iteration 3400: 0.253127\n",
      "Iteration 3410: 0.183869\n",
      "Iteration 3420: 0.260401\n",
      "Iteration 3430: 0.302878\n",
      "Iteration 3440: 0.193512\n",
      "Iteration 3450: 0.186384\n",
      "Iteration 3460: 0.235488\n",
      "Iteration 3470: 0.340833\n",
      "Iteration 3480: 0.177119\n",
      "Iteration 3490: 0.163182\n",
      "Iteration 3500: 0.169629\n",
      "Iteration 3510: 0.187284\n",
      "Iteration 3520: 0.185456\n",
      "Iteration 3530: 0.145258\n",
      "Iteration 3540: 0.291852\n",
      "Iteration 3550: 0.216942\n",
      "Iteration 3560: 0.271198\n",
      "Iteration 3570: 0.296817\n",
      "Iteration 3580: 0.240960\n",
      "Iteration 3590: 0.207283\n",
      "Iteration 3600: 0.228271\n",
      "Iteration 3610: 0.023964\n",
      "Iteration 3620: 0.009590\n",
      "Iteration 3630: 0.368712\n",
      "Iteration 3640: 0.091811\n",
      "Iteration 3650: 0.321477\n",
      "Iteration 3660: 0.158328\n",
      "Iteration 3670: 0.079895\n",
      "Iteration 3680: 0.085421\n",
      "Iteration 3690: 0.075429\n",
      "Iteration 3700: 0.087884\n",
      "Iteration 3710: 0.113746\n",
      "Iteration 3720: 0.059703\n",
      "Iteration 3730: 0.024384\n",
      "Iteration 3740: 0.057587\n",
      "Iteration 3750: 0.112790\n",
      "Iteration 3760: 0.102207\n",
      "Iteration 3770: 0.132451\n",
      "Iteration 3780: 0.089989\n",
      "Iteration 3790: 0.129260\n",
      "Iteration 3800: 0.284774\n",
      "Iteration 3810: 0.251225\n",
      "Iteration 3820: 0.278695\n",
      "Iteration 3830: 0.269438\n",
      "Iteration 3840: 0.171489\n",
      "Iteration 3850: 0.203054\n",
      "Iteration 3860: 0.261551\n",
      "Iteration 3870: 0.352661\n",
      "Iteration 3880: 0.209624\n",
      "Iteration 3890: 0.169374\n",
      "Iteration 3900: 0.181077\n",
      "Iteration 3910: 0.165850\n",
      "Iteration 3920: 0.198882\n",
      "Iteration 3930: 0.120621\n",
      "Iteration 3940: 0.252628\n",
      "Iteration 3950: 0.210097\n",
      "Iteration 3960: 0.260186\n",
      "Iteration 3970: 0.307050\n",
      "Iteration 3980: 0.245121\n",
      "Iteration 3990: 0.198518\n",
      "Iteration 4000: 0.251185\n"
     ]
    },
    {
     "data": {
      "image/png": "[encoded data removed]",
      "text/plain": [
       "<matplotlib.figure.Figure at 0x127d4e7b8>"
      ]
     },
     "metadata": {},
     "output_type": "display_data"
    },
    {
     "name": "stdout",
     "output_type": "stream",
     "text": [
      "CPU times: user 7h 30min 38s, sys: 39min 59s, total: 8h 10min 38s\n",
      "Wall time: 9h 55min 27s\n"
     ]
    }
   ],
   "source": [
    "%%time\n",
    "scores100 = trec100.train(iamtr100.samlist[363:763], verbose=10, eps=10)\n",
    "plt.plot(scores100)\n",
    "plt.show()"
   ]
  },
  {
   "cell_type": "code",
   "execution_count": null,
   "metadata": {
    "scrolled": true
   },
   "outputs": [
    {
     "name": "stdout",
     "output_type": "stream",
     "text": [
      "Iteration 20: 0.473570\n",
      "Iteration 40: 0.463557\n",
      "Iteration 60: 0.609957\n",
      "Iteration 80: 0.643119\n",
      "Iteration 100: 0.604799\n",
      "Iteration 120: 0.395116\n",
      "Iteration 140: 0.289607\n",
      "Iteration 160: 0.541965\n",
      "Iteration 180: 3.792501\n",
      "Iteration 200: 2.069690\n",
      "Iteration 220: 1.702482\n",
      "Iteration 240: 0.784114\n",
      "Iteration 260: 0.838988\n",
      "Iteration 280: 0.534896\n",
      "Iteration 300: 0.301573\n",
      "Iteration 320: 0.421587\n",
      "Iteration 340: 0.627564\n",
      "Iteration 360: 0.665973\n",
      "Iteration 380: 0.975471\n",
      "Iteration 400: 0.541532\n",
      "Iteration 420: 0.431048\n",
      "Iteration 440: 0.452820\n",
      "Iteration 460: 0.360142\n",
      "Iteration 480: 0.392960\n",
      "Iteration 500: 0.480316\n",
      "Iteration 520: 0.549276\n",
      "Iteration 540: 0.561037\n",
      "Iteration 560: 0.577403\n",
      "Iteration 580: 0.763922\n",
      "Iteration 588 threw exception\n",
      "Iteration 600: 0.826891\n",
      "Iteration 620: 1.005585\n",
      "Iteration 640: 1.024929\n",
      "Iteration 660: 0.612617\n",
      "Iteration 680: 0.798912\n",
      "Iteration 700: 0.907517\n",
      "Iteration 720: 0.609169\n",
      "Iteration 740: 0.841786\n",
      "Iteration 760: 0.715201\n"
     ]
    }
   ],
   "source": [
    "%%time\n",
    "scores100 = trec100.train(iamtr100.samlist[:363] + iamtr100.samlist[563:], verbose=20, eps=10)\n",
    "plt.plot(scores100)\n",
    "plt.show()"
   ]
  },
  {
   "cell_type": "code",
   "execution_count": 88,
   "metadata": {},
   "outputs": [],
   "source": [
    "s = iamtr100.samlist[800]\n",
    "bb = np.load(s.path)"
   ]
  },
  {
   "cell_type": "code",
   "execution_count": 189,
   "metadata": {},
   "outputs": [
    {
     "data": {
      "text/plain": [
       "<matplotlib.image.AxesImage at 0x1282a9048>"
      ]
     },
     "execution_count": 189,
     "metadata": {},
     "output_type": "execute_result"
    },
    {
     "data": {
      "image/png": "[encoded data removed]",
      "text/plain": [
       "<matplotlib.figure.Figure at 0x148ae8b38>"
      ]
     },
     "metadata": {},
     "output_type": "display_data"
    }
   ],
   "source": [
    "plt.imshow(bb[73], cmap='gray')"
   ]
  },
  {
   "cell_type": "code",
   "execution_count": 178,
   "metadata": {},
   "outputs": [
    {
     "data": {
      "text/plain": [
       "'moment'"
      ]
     },
     "execution_count": 178,
     "metadata": {},
     "output_type": "execute_result"
    }
   ],
   "source": [
    "s.text[sum(s.lengths[:41]):sum(s.lengths[:42])]"
   ]
  },
  {
   "cell_type": "code",
   "execution_count": 90,
   "metadata": {},
   "outputs": [],
   "source": [
    "n, h, w = bb.shape\n",
    "inputb = ag.Variable(torch.Tensor(bb.reshape(n,1,h,w)))\n",
    "targets = ag.Variable(torch.IntTensor(trec100.encode(s.text)))\n",
    "in_lengths = ag.Variable(torch.IntTensor([int(w/8)]*n))\n",
    "tar_lengths = ag.Variable(torch.IntTensor(s.lengths))"
   ]
  },
  {
   "cell_type": "code",
   "execution_count": 91,
   "metadata": {},
   "outputs": [],
   "source": [
    "with torch.no_grad():\n",
    "    output = trec100.rec(inputb)\n",
    "    cost = trec100.loss1(output, targets, in_lengths, tar_lengths)"
   ]
  },
  {
   "cell_type": "code",
   "execution_count": 190,
   "metadata": {},
   "outputs": [
    {
     "data": {
      "image/png": "[encoded data removed]",
      "text/plain": [
       "<matplotlib.figure.Figure at 0x1315abeb8>"
      ]
     },
     "metadata": {},
     "output_type": "display_data"
    }
   ],
   "source": [
    "plt.imshow(output[:,73].detach().numpy().T)\n",
    "plt.show()"
   ]
  },
  {
   "cell_type": "code",
   "execution_count": 131,
   "metadata": {},
   "outputs": [],
   "source": [
    "import tensorflow as tf"
   ]
  },
  {
   "cell_type": "code",
   "execution_count": 191,
   "metadata": {},
   "outputs": [],
   "source": [
    "import editdistance as ed"
   ]
  },
  {
   "cell_type": "code",
   "execution_count": 268,
   "metadata": {},
   "outputs": [],
   "source": [
    "def infer(trec, inputs):\n",
    "    n, h, w = inputs.shape\n",
    "    with torch.no_grad():\n",
    "        outputs = trec.rec(ag.Variable(torch.Tensor(inputs.reshape(n,1,h,w))))\n",
    "    tf_inputs = tf.convert_to_tensor(outputs.detach().numpy())\n",
    "    tf_seq_length = tf.convert_to_tensor([w//8]*n)\n",
    "    dec = tf.nn.ctc_beam_search_decoder(tf_inputs, tf_seq_length)\n",
    "    with tf.Session() as sess:\n",
    "        out = sess.run(dec)[0][0]\n",
    "    \n",
    "    strs = [''] * n\n",
    "    for ind, val in zip(out.indices, out.values):\n",
    "        if val != 0:\n",
    "            strs[ind[0]] += chr(val+ord('a')-1) # inds [sample, character] sorted lexicographically\n",
    "    \n",
    "    return strs"
   ]
  },
  {
   "cell_type": "code",
   "execution_count": 189,
   "metadata": {},
   "outputs": [
    {
     "data": {
      "text/plain": [
       "<matplotlib.image.AxesImage at 0x1282a9048>"
      ]
     },
     "execution_count": 189,
     "metadata": {},
     "output_type": "execute_result"
    },
    {
     "data": {
      "image/png": "[encoded data removed]",
      "text/plain": [
       "<matplotlib.figure.Figure at 0x148ae8b38>"
      ]
     },
     "metadata": {},
     "output_type": "display_data"
    }
   ],
   "source": [
    "plt.imshow(bb[73], cmap='gray')"
   ]
  },
  {
   "cell_type": "code",
   "execution_count": 210,
   "metadata": {},
   "outputs": [],
   "source": [
    "strs = infer(trec2, bb)"
   ]
  },
  {
   "cell_type": "code",
   "execution_count": 211,
   "metadata": {},
   "outputs": [
    {
     "data": {
      "text/plain": [
       "'show'"
      ]
     },
     "execution_count": 211,
     "metadata": {},
     "output_type": "execute_result"
    }
   ],
   "source": [
    "strs[73]"
   ]
  },
  {
   "cell_type": "code",
   "execution_count": 206,
   "metadata": {},
   "outputs": [],
   "source": [
    "eds = []\n",
    "pref = 0\n",
    "for i, l in enumerate(s.lengths):\n",
    "    eds.append(ed.eval(strs[i], s.text[pref:pref+l]))\n",
    "    pref += l"
   ]
  },
  {
   "cell_type": "code",
   "execution_count": 207,
   "metadata": {},
   "outputs": [
    {
     "data": {
      "image/png": "[encoded data removed]",
      "text/plain": [
       "<matplotlib.figure.Figure at 0x1286b4a20>"
      ]
     },
     "metadata": {},
     "output_type": "display_data"
    }
   ],
   "source": [
    "plt.plot(eds)\n",
    "plt.show()"
   ]
  },
  {
   "cell_type": "code",
   "execution_count": 208,
   "metadata": {},
   "outputs": [
    {
     "data": {
      "text/plain": [
       "('deay', 'delay')"
      ]
     },
     "execution_count": 208,
     "metadata": {},
     "output_type": "execute_result"
    }
   ],
   "source": [
    "strs[10], s.text[sum(s.lengths[:10]):sum(s.lengths[:11])]"
   ]
  },
  {
   "cell_type": "code",
   "execution_count": 97,
   "metadata": {},
   "outputs": [
    {
     "data": {
      "text/plain": [
       "[6, 9, 14, 1, 12]"
      ]
     },
     "execution_count": 97,
     "metadata": {},
     "output_type": "execute_result"
    }
   ],
   "source": [
    "[ord(c) - ord('a') + 1 for c in 'final']"
   ]
  },
  {
   "cell_type": "code",
   "execution_count": 94,
   "metadata": {},
   "outputs": [
    {
     "data": {
      "text/plain": [
       "'o'"
      ]
     },
     "execution_count": 94,
     "metadata": {},
     "output_type": "execute_result"
    }
   ],
   "source": [
    "chr(15+ord('a')-1)"
   ]
  },
  {
   "cell_type": "code",
   "execution_count": 60,
   "metadata": {},
   "outputs": [
    {
     "data": {
      "text/plain": [
       "array([4.62497902e+00, 4.41664681e-02, 1.37213392e+01, 3.89459670e-01,\n",
       "       1.72309837e+01, 7.30488524e-02, 5.03612900e+00, 1.50454378e+01,\n",
       "       1.82703686e+01, 5.85189741e-03, 3.54609132e+00, 2.91308742e-02,\n",
       "       1.68312788e-02, 5.20143658e-03, 2.52791513e-02, 4.36871195e+00,\n",
       "       7.38436580e-02, 4.82455224e-01, 3.92475873e-02, 2.10230947e-02,\n",
       "       1.45902061e+00, 1.10390961e-01, 1.25321504e-02, 2.85040699e-02,\n",
       "       9.76796722e+00, 1.33989811e+00, 3.04755747e-01, 1.04705784e-02,\n",
       "       6.35044098e+00, 4.49876534e-03, 4.78300190e+00, 1.18103996e-01,\n",
       "       8.23808479e+00, 3.11822653e+00, 4.24816251e-01, 9.24596339e-02,\n",
       "       3.70612964e-02, 7.02427775e-02, 3.89470533e-03, 9.99843597e+00,\n",
       "       2.08655193e-01,            inf, 9.74228096e+00, 1.13136053e+01,\n",
       "       5.49156852e-02, 1.24346981e+01, 5.24043131e+00, 1.93744525e-02,\n",
       "       6.19794464e+00, 1.23256648e+00, 2.20449853e+00, 2.95391216e+01,\n",
       "       3.35923004e+00, 6.65389442e+00, 9.59533882e+00, 3.45166847e-02,\n",
       "       1.16402063e+01, 4.51362878e-01, 4.85440731e+00, 1.38798475e-01,\n",
       "       1.01976812e-01, 8.50406170e-01, 4.20380943e-03, 2.21902199e+01,\n",
       "       2.00823283e+00, 1.05640440e+01, 6.22337162e-01, 4.87005115e-02,\n",
       "       6.30997214e-03, 2.05877319e-01, 1.12978344e+01, 1.20228167e+01,\n",
       "       2.65430454e-02, 3.64266187e-01, 8.37009811e+00, 1.89577490e-02,\n",
       "       1.45194473e+01, 1.14391642e+01, 6.12986994e+00, 5.67490049e-03,\n",
       "       9.97781008e-03, 2.97120656e-03, 8.78210258e+00, 7.96405226e-03,\n",
       "       9.40029526e+00, 1.22488368e+00, 3.54983844e-02, 8.72050762e+00,\n",
       "       5.28758144e+00, 4.38126177e-03, 5.45368120e-02, 1.60449111e+00,\n",
       "       3.05499744e+00, 6.23019600e+00, 1.83183174e+01, 5.09705991e-02,\n",
       "       3.52989793e+00, 1.79183304e-01, 8.39909744e+00, 5.40689304e-02],\n",
       "      dtype=float32)"
      ]
     },
     "execution_count": 60,
     "metadata": {},
     "output_type": "execute_result"
    }
   ],
   "source": [
    "cost.detach().numpy()"
   ]
  },
  {
   "cell_type": "code",
   "execution_count": 221,
   "metadata": {},
   "outputs": [
    {
     "name": "stdout",
     "output_type": "stream",
     "text": [
      "CPU times: user 2.13 s, sys: 285 ms, total: 2.41 s\n",
      "Wall time: 2.98 s\n"
     ]
    }
   ],
   "source": [
    "%%time\n",
    "lines = ds.IAMDataset('lines', \n",
    "                      '/Users/atadenizaydin/Documents/course material/cs491/mxnet/dataset/iamdataset',\n",
    "                      msb=True, tabulate=True, sort=True)"
   ]
  },
  {
   "cell_type": "code",
   "execution_count": 270,
   "metadata": {},
   "outputs": [],
   "source": [
    "sl = lines.samlist[50]\n",
    "al = cv2.imread(sl.path, cv2.IMREAD_GRAYSCALE)"
   ]
  },
  {
   "cell_type": "code",
   "execution_count": 271,
   "metadata": {},
   "outputs": [
    {
     "data": {
      "image/png": "[encoded data removed]",
      "text/plain": [
       "<matplotlib.figure.Figure at 0x107270828>"
      ]
     },
     "metadata": {},
     "output_type": "display_data"
    }
   ],
   "source": [
    "plt.figure().set_size_inches(15, 8)\n",
    "plt.imshow(al, cmap='gray')\n",
    "plt.show()"
   ]
  },
  {
   "cell_type": "code",
   "execution_count": 272,
   "metadata": {},
   "outputs": [],
   "source": [
    "ker = np.ones((5,5),np.uint8)\n",
    "ac = cv2.morphologyEx(al, cv2.MORPH_OPEN, ker)\n",
    "ab = cv2.threshold(ac, sl.thres, 255, cv2.THRESH_BINARY)[1]"
   ]
  },
  {
   "cell_type": "code",
   "execution_count": 262,
   "metadata": {},
   "outputs": [],
   "source": [
    "ker = np.ones((3,3),np.uint8)\n",
    "alr = cv2.morphologyEx(alr, cv2.MORPH_OPEN, ker)"
   ]
  },
  {
   "cell_type": "code",
   "execution_count": 273,
   "metadata": {},
   "outputs": [],
   "source": [
    "h, w = al.shape\n",
    "h, w = 32, int(w/h*32)\n",
    "alr = cv2.resize(ab, (w, h))"
   ]
  },
  {
   "cell_type": "code",
   "execution_count": 274,
   "metadata": {},
   "outputs": [
    {
     "data": {
      "image/png": "[encoded data removed]",
      "text/plain": [
       "<matplotlib.figure.Figure at 0x1286b2400>"
      ]
     },
     "metadata": {},
     "output_type": "display_data"
    }
   ],
   "source": [
    "plt.figure().set_size_inches(15, 8)\n",
    "plt.imshow(alr, cmap='gray')\n",
    "plt.show()"
   ]
  },
  {
   "cell_type": "code",
   "execution_count": 275,
   "metadata": {},
   "outputs": [
    {
     "data": {
      "text/plain": [
       "['waowasoarseodscuateuiller']"
      ]
     },
     "execution_count": 275,
     "metadata": {},
     "output_type": "execute_result"
    }
   ],
   "source": [
    "infer(trec2, alr.reshape((1,)+alr.shape))"
   ]
  },
  {
   "cell_type": "code",
   "execution_count": 276,
   "metadata": {},
   "outputs": [
    {
     "data": {
      "text/plain": [
       "'a01-007u-04'"
      ]
     },
     "execution_count": 276,
     "metadata": {},
     "output_type": "execute_result"
    }
   ],
   "source": [
    "sl.fname"
   ]
  },
  {
   "cell_type": "code",
   "execution_count": 278,
   "metadata": {},
   "outputs": [
    {
     "data": {
      "text/plain": [
       "{'00': Sample('a01-007u-04-00'),\n",
       " '01': Sample('a01-007u-04-01'),\n",
       " '02': Sample('a01-007u-04-02'),\n",
       " '03': Sample('a01-007u-04-03'),\n",
       " '04': Sample('a01-007u-04-04'),\n",
       " '05': Sample('a01-007u-04-05'),\n",
       " '06': Sample('a01-007u-04-06')}"
      ]
     },
     "execution_count": 278,
     "metadata": {},
     "output_type": "execute_result"
    }
   ],
   "source": [
    "iam.samples['a01']['007u']['04']"
   ]
  },
  {
   "cell_type": "code",
   "execution_count": 283,
   "metadata": {},
   "outputs": [],
   "source": [
    "d = iam.samples['a01']['007u']['04']\n",
    "sls = [d[i] for i in iam.indices[3] if i in d]"
   ]
  },
  {
   "cell_type": "code",
   "execution_count": 284,
   "metadata": {},
   "outputs": [
    {
     "data": {
      "text/plain": [
       "['Labour', 'has', 'to', 'have', 'an', 'adequate', 'number']"
      ]
     },
     "execution_count": 284,
     "metadata": {},
     "output_type": "execute_result"
    }
   ],
   "source": [
    "[s.text for s in sls]"
   ]
  },
  {
   "cell_type": "code",
   "execution_count": 285,
   "metadata": {},
   "outputs": [],
   "source": [
    "imgs = [cv2.imread(s.path, cv2.IMREAD_GRAYSCALE) for s in sls]"
   ]
  },
  {
   "cell_type": "code",
   "execution_count": 287,
   "metadata": {},
   "outputs": [],
   "source": [
    "imgs = [cv2.resize(a, (int(a.shape[1]/a.shape[0]*32), 32)) for a in imgs]"
   ]
  },
  {
   "cell_type": "code",
   "execution_count": 290,
   "metadata": {},
   "outputs": [
    {
     "data": {
      "image/png": "[encoded data removed]",
      "text/plain": [
       "<matplotlib.figure.Figure at 0x149ce12b0>"
      ]
     },
     "metadata": {},
     "output_type": "display_data"
    },
    {
     "data": {
      "image/png": "[encoded data removed]",
      "text/plain": [
       "<matplotlib.figure.Figure at 0x14beffac8>"
      ]
     },
     "metadata": {},
     "output_type": "display_data"
    },
    {
     "data": {
      "image/png": "[encoded data removed]",
      "text/plain": [
       "<matplotlib.figure.Figure at 0x149e0d4e0>"
      ]
     },
     "metadata": {},
     "output_type": "display_data"
    },
    {
     "data": {
      "image/png": "[encoded data removed]",
      "text/plain": [
       "<matplotlib.figure.Figure at 0x149e2ff28>"
      ]
     },
     "metadata": {},
     "output_type": "display_data"
    },
    {
     "data": {
      "image/png": "[encoded data removed]",
      "text/plain": [
       "<matplotlib.figure.Figure at 0x149f71da0>"
      ]
     },
     "metadata": {},
     "output_type": "display_data"
    },
    {
     "data": {
      "image/png": "[encoded data removed]",
      "text/plain": [
       "<matplotlib.figure.Figure at 0x149f91c88>"
      ]
     },
     "metadata": {},
     "output_type": "display_data"
    },
    {
     "data": {
      "image/png": "[encoded data removed]",
      "text/plain": [
       "<matplotlib.figure.Figure at 0x14a191710>"
      ]
     },
     "metadata": {},
     "output_type": "display_data"
    }
   ],
   "source": [
    "for a in imgs:\n",
    "    plt.figure()\n",
    "    plt.imshow(a, cmap='gray')"
   ]
  },
  {
   "cell_type": "code",
   "execution_count": 288,
   "metadata": {},
   "outputs": [
    {
     "data": {
      "text/plain": [
       "[['iabvsa'],\n",
       " ['inaas'],\n",
       " ['ita'],\n",
       " ['iscib'],\n",
       " ['iaa'],\n",
       " ['solaual'],\n",
       " ['ievealtso']]"
      ]
     },
     "execution_count": 288,
     "metadata": {},
     "output_type": "execute_result"
    }
   ],
   "source": [
    "[infer(trec2, a.reshape((1,)+a.shape)) for a in imgs]"
   ]
  },
  {
   "cell_type": "code",
   "execution_count": 291,
   "metadata": {},
   "outputs": [],
   "source": [
    "imgs = [cv2.threshold(a, s.thres, 255, cv2.THRESH_BINARY)[1] for (a, s) in zip(imgs, sls)]"
   ]
  },
  {
   "cell_type": "code",
   "execution_count": 292,
   "metadata": {},
   "outputs": [
    {
     "data": {
      "text/plain": [
       "[['vabou'], ['hews'], ['to'], ['hovrse'], ['ou'], ['adreamate'], ['muuber']]"
      ]
     },
     "execution_count": 292,
     "metadata": {},
     "output_type": "execute_result"
    }
   ],
   "source": [
    "[infer(trec2, a.reshape((1,)+a.shape)) for a in imgs]"
   ]
  },
  {
   "cell_type": "code",
   "execution_count": null,
   "metadata": {},
   "outputs": [],
   "source": []
  }
 ],
 "metadata": {
  "kernelspec": {
   "display_name": "Python 3",
   "language": "python",
   "name": "python3"
  },
  "language_info": {
   "codemirror_mode": {
    "name": "ipython",
    "version": 3
   },
   "file_extension": ".py",
   "mimetype": "text/x-python",
   "name": "python",
   "nbconvert_exporter": "python",
   "pygments_lexer": "ipython3",
   "version": "3.5.3"
  }
 },
 "nbformat": 4,
 "nbformat_minor": 2
}
