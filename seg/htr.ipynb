{
 "cells": [
  {
   "cell_type": "markdown",
   "metadata": {},
   "source": [
    "# Model\n",
    "\n",
    "Image: 64x32 or 128x32 depending on length?\n",
    "conv+relu+pooling until 512 channels, height 1\n",
    "two-layer bidirectional lstm\n",
    "\n",
    "(n, channel, height, width)\n",
    "- (n, 1, 32, 128)\n",
    "- (n, 64, 32, 128), relu, pool (n, 64, 16, 64)\n",
    "- (n, 128, 16, 64), relu, pool (n, 128, 8, 32)\n",
    "- (n, 256, 8, 32), batchnorm, relu\n",
    "- (n, 256, 8, 32), relu, pool (n, 256, 4, w), w = 16 or 32\n",
    "- (n, 512, 4, w), batchnorm, relu\n",
    "- (n, 512, 4, w), relu, pool (n, 512, 2, w)\n",
    "- (n, 512, 2, w) -> (n, 512, 1, w) padding 0\n",
    "\n",
    "stride 1, padding 1 except for last, kernel 3 except 2 in last\n",
    "\n",
    "lstm takes (w, n, c=512)\n",
    "\n",
    "Apply log_softmax to output before feeding to CTCLoss"
   ]
  },
  {
   "cell_type": "code",
   "execution_count": 6,
   "metadata": {},
   "outputs": [],
   "source": [
    "import numpy as np\n",
    "import torch\n",
    "import torch.nn as nn\n",
    "import torch.optim as optim\n",
    "import torch.autograd as ag\n",
    "\n",
    "import dataset as ds"
   ]
  },
  {
   "cell_type": "code",
   "execution_count": 185,
   "metadata": {},
   "outputs": [],
   "source": [
    "class TextRecognizer(nn.Module):\n",
    "    def __init__(self, nh, ncl, nci=1, nc=64, nco=512, w=16):\n",
    "        '''\n",
    "        nh: dimension of hidden layer of lstm\n",
    "        ncl: no of classes\n",
    "        nci: no of channels of input data\n",
    "        nc: no of channels of first conv layer\n",
    "        nco: no of channels of last conv layer\n",
    "        w: width of last conv layer (16 or 32)\n",
    "        '''\n",
    "        super(TextRecognizer, self).__init__()\n",
    "        self.cnn = nn.Sequential(\n",
    "            nn.Conv2d(1, 64, kernel_size=3, padding=1), # (64,32,128)\n",
    "            nn.ReLU(True),\n",
    "            nn.MaxPool2d((2,2)), # (64,16,64)\n",
    "            nn.Conv2d(64, 128, kernel_size=3, padding=1), # (128,16,64)\n",
    "            nn.ReLU(True),\n",
    "            nn.MaxPool2d((2,2)), # (128,8,32)\n",
    "            nn.Conv2d(128, 256, kernel_size=3, padding=1), # (256,8,32)\n",
    "            nn.BatchNorm2d(256),\n",
    "            nn.ReLU(True),\n",
    "            nn.Conv2d(256, 256, kernel_size=3, padding=1),\n",
    "            nn.ReLU(True),\n",
    "            nn.MaxPool2d((2,2)), # (256,4,w) w=16\n",
    "            nn.Conv2d(256, 512, kernel_size=3, padding=1), # (512,4,w)\n",
    "            nn.BatchNorm2d(512),\n",
    "            nn.ReLU(True),\n",
    "            nn.Conv2d(512, 512, kernel_size=3, padding=1),\n",
    "            nn.ReLU(True),\n",
    "            nn.MaxPool2d((2,2), (2,1), (0,1)), # (256,2,w)\n",
    "            nn.Conv2d(512, 512, kernel_size=2, padding=0) # (256,1,w)\n",
    "        )\n",
    "        \n",
    "        self.lstm = nn.LSTM(512, nh, num_layers=2, bidirectional=True)\n",
    "        \n",
    "        self.embed = nn.Linear(2*nh, ncl) # bidirectional layers concatenated\n",
    "    \n",
    "    def forward(self, input):\n",
    "        conv = self.cnn(input)\n",
    "        n, c, h, w = conv.size()\n",
    "        assert h == 1\n",
    "        conv = conv.squeeze(2).permute(2,0,1)\n",
    "        # conv = torch.einsum('nchw->wnc', conv)\n",
    "        \n",
    "        lstm, _ = self.lstm(conv)\n",
    "        w, n, nh = lstm.size()\n",
    "        \n",
    "        embed = self.embed(lstm.view(-1, nh))\n",
    "        _, ncl = embed.size()\n",
    "        return embed.view(w, n, ncl).log_softmax(2)"
   ]
  },
  {
   "cell_type": "code",
   "execution_count": 11,
   "metadata": {},
   "outputs": [],
   "source": [
    "rec = TextRecognizer(512, 32)"
   ]
  },
  {
   "cell_type": "code",
   "execution_count": 12,
   "metadata": {},
   "outputs": [
    {
     "name": "stdout",
     "output_type": "stream",
     "text": [
      "CPU times: user 2.08 s, sys: 304 ms, total: 2.39 s\n",
      "Wall time: 1.78 s\n"
     ]
    }
   ],
   "source": [
    "%%time\n",
    "res = rec(ag.Variable(torch.ones(50,1,32,128)))"
   ]
  },
  {
   "cell_type": "code",
   "execution_count": 13,
   "metadata": {},
   "outputs": [
    {
     "data": {
      "text/plain": [
       "torch.Size([16, 50, 32])"
      ]
     },
     "execution_count": 13,
     "metadata": {},
     "output_type": "execute_result"
    }
   ],
   "source": [
    "res.size()"
   ]
  },
  {
   "cell_type": "code",
   "execution_count": null,
   "metadata": {},
   "outputs": [],
   "source": []
  },
  {
   "cell_type": "code",
   "execution_count": 41,
   "metadata": {},
   "outputs": [],
   "source": [
    "cnn = nn.Sequential(\n",
    "            nn.Conv2d(1, 64, kernel_size=3, padding=1), # (64,32,128)\n",
    "            nn.ReLU(True),\n",
    "            nn.MaxPool2d((2,2)), # (64,16,64)\n",
    "            nn.Conv2d(64, 128, kernel_size=3, padding=1), # (128,16,64)\n",
    "            nn.ReLU(True),\n",
    "            nn.MaxPool2d((2,2)), # (128,8,32)\n",
    "            nn.Conv2d(128, 256, kernel_size=3, padding=1), # (256,8,32)\n",
    "            nn.BatchNorm2d(256),\n",
    "            nn.ReLU(True),\n",
    "            nn.Conv2d(256, 256, kernel_size=3, padding=1),\n",
    "            nn.ReLU(True),\n",
    "            nn.MaxPool2d((2,2)), # (256,4,w) w=16\n",
    "            nn.Conv2d(256, 512, kernel_size=3, padding=1), # (512,4,w)\n",
    "            nn.BatchNorm2d(512),\n",
    "            nn.ReLU(True),\n",
    "            nn.Conv2d(512, 512, kernel_size=3, padding=1),\n",
    "            nn.ReLU(True),\n",
    "            nn.MaxPool2d((2,2), (2,1), (0,1)), # (256,2,w)\n",
    "            nn.Conv2d(512, 512, kernel_size=2, padding=0) # (256,1,w)\n",
    "        )"
   ]
  },
  {
   "cell_type": "code",
   "execution_count": 42,
   "metadata": {},
   "outputs": [
    {
     "name": "stdout",
     "output_type": "stream",
     "text": [
      "CPU times: user 1.05 s, sys: 120 ms, total: 1.17 s\n",
      "Wall time: 1.12 s\n"
     ]
    }
   ],
   "source": [
    "%%time\n",
    "conv = cnn.forward(ag.Variable(torch.zeros(50,1,32,128)))"
   ]
  },
  {
   "cell_type": "code",
   "execution_count": 43,
   "metadata": {},
   "outputs": [
    {
     "name": "stdout",
     "output_type": "stream",
     "text": [
      "CPU times: user 5.68 ms, sys: 4.45 ms, total: 10.1 ms\n",
      "Wall time: 5.72 ms\n"
     ]
    },
    {
     "data": {
      "text/plain": [
       "torch.Size([16, 50, 512])"
      ]
     },
     "execution_count": 43,
     "metadata": {},
     "output_type": "execute_result"
    }
   ],
   "source": [
    "%%time\n",
    "torch.einsum('nchw->wnc', conv).size()"
   ]
  },
  {
   "cell_type": "code",
   "execution_count": 44,
   "metadata": {},
   "outputs": [
    {
     "name": "stdout",
     "output_type": "stream",
     "text": [
      "CPU times: user 336 µs, sys: 146 µs, total: 482 µs\n",
      "Wall time: 327 µs\n"
     ]
    },
    {
     "data": {
      "text/plain": [
       "torch.Size([16, 50, 512])"
      ]
     },
     "execution_count": 44,
     "metadata": {},
     "output_type": "execute_result"
    }
   ],
   "source": [
    "%%time\n",
    "conv.squeeze(2).permute(2,0,1).size()"
   ]
  },
  {
   "cell_type": "code",
   "execution_count": 45,
   "metadata": {},
   "outputs": [
    {
     "data": {
      "text/plain": [
       "(50, 512, 1, 16)"
      ]
     },
     "execution_count": 45,
     "metadata": {},
     "output_type": "execute_result"
    }
   ],
   "source": [
    "carr = conv.detach().numpy()\n",
    "carr.shape"
   ]
  },
  {
   "cell_type": "code",
   "execution_count": 46,
   "metadata": {},
   "outputs": [
    {
     "name": "stdout",
     "output_type": "stream",
     "text": [
      "CPU times: user 1.67 ms, sys: 1.34 ms, total: 3.01 ms\n",
      "Wall time: 1.47 ms\n"
     ]
    },
    {
     "data": {
      "text/plain": [
       "(16, 50, 512)"
      ]
     },
     "execution_count": 46,
     "metadata": {},
     "output_type": "execute_result"
    }
   ],
   "source": [
    "%%time\n",
    "np.einsum('nchw->wnc', carr).shape"
   ]
  },
  {
   "cell_type": "code",
   "execution_count": 15,
   "metadata": {},
   "outputs": [],
   "source": [
    "import dataset as ds\n",
    "\n",
    "import matplotlib.pyplot as plt\n",
    "import cv2"
   ]
  },
  {
   "cell_type": "code",
   "execution_count": 164,
   "metadata": {},
   "outputs": [
    {
     "name": "stdout",
     "output_type": "stream",
     "text": [
      "CPU times: user 34.3 s, sys: 1.59 s, total: 35.8 s\n",
      "Wall time: 37.6 s\n"
     ]
    }
   ],
   "source": [
    "%%time\n",
    "iam = ds.IAMDataset('words', '/Users/atadenizaydin/Documents/course material/cs491/SimpleHTR/data',\n",
    "                   msb=True, tabulate=True, sort=True)"
   ]
  },
  {
   "cell_type": "code",
   "execution_count": 147,
   "metadata": {},
   "outputs": [
    {
     "data": {
      "text/plain": [
       "<matplotlib.image.AxesImage at 0x150a19208>"
      ]
     },
     "execution_count": 147,
     "metadata": {},
     "output_type": "execute_result"
    },
    {
     "data": {
      "image/png": "[encoded data removed]",
      "text/plain": [
       "<matplotlib.figure.Figure at 0x150a01a58>"
      ]
     },
     "metadata": {},
     "output_type": "display_data"
    }
   ],
   "source": [
    "s = iam.samlist[10]\n",
    "a = cv2.imread(s.path, cv2.IMREAD_GRAYSCALE)\n",
    "plt.imshow(a, cmap='gray')"
   ]
  },
  {
   "cell_type": "code",
   "execution_count": 41,
   "metadata": {},
   "outputs": [
    {
     "data": {
      "text/plain": [
       "<matplotlib.image.AxesImage at 0x10a80f550>"
      ]
     },
     "execution_count": 41,
     "metadata": {},
     "output_type": "execute_result"
    },
    {
     "data": {
      "image/png": "[encoded data removed]",
      "text/plain": [
       "<matplotlib.figure.Figure at 0x10a525470>"
      ]
     },
     "metadata": {},
     "output_type": "display_data"
    }
   ],
   "source": [
    "w = int(a.shape[1] / a.shape[0] * 32)\n",
    "a = cv2.resize(a, (w, 32))\n",
    "plt.imshow(a, cmap='gray')"
   ]
  },
  {
   "cell_type": "code",
   "execution_count": 162,
   "metadata": {},
   "outputs": [
    {
     "data": {
      "text/plain": [
       "'\\n'"
      ]
     },
     "execution_count": 162,
     "metadata": {},
     "output_type": "execute_result"
    }
   ],
   "source": [
    "s.text"
   ]
  },
  {
   "cell_type": "code",
   "execution_count": 42,
   "metadata": {},
   "outputs": [
    {
     "data": {
      "text/plain": [
       "torch.Size([19, 1, 32])"
      ]
     },
     "execution_count": 42,
     "metadata": {},
     "output_type": "execute_result"
    }
   ],
   "source": [
    "rec(ag.Variable(torch.Tensor(a.reshape(1,1,32,-1)))).size()"
   ]
  },
  {
   "cell_type": "code",
   "execution_count": 43,
   "metadata": {},
   "outputs": [
    {
     "data": {
      "text/plain": [
       "<matplotlib.image.AxesImage at 0x1117177f0>"
      ]
     },
     "execution_count": 43,
     "metadata": {},
     "output_type": "execute_result"
    },
    {
     "data": {
      "image/png": "[encoded data removed]",
      "text/plain": [
       "<matplotlib.figure.Figure at 0x10a835710>"
      ]
     },
     "metadata": {},
     "output_type": "display_data"
    }
   ],
   "source": [
    "plt.imshow(rec(ag.Variable(torch.Tensor(a.reshape(1,1,32,-1)))).detach().numpy().reshape(-1, 32).T)"
   ]
  },
  {
   "cell_type": "code",
   "execution_count": 46,
   "metadata": {},
   "outputs": [
    {
     "data": {
      "text/plain": [
       "<matplotlib.image.AxesImage at 0x10a2e8dd8>"
      ]
     },
     "execution_count": 46,
     "metadata": {},
     "output_type": "execute_result"
    },
    {
     "data": {
      "image/png": "[encoded data removed]",
      "text/plain": [
       "<matplotlib.figure.Figure at 0x111636a90>"
      ]
     },
     "metadata": {},
     "output_type": "display_data"
    }
   ],
   "source": [
    "plt.imshow(rec.cnn(ag.Variable(torch.Tensor(a.reshape(1,1,32,-1)))).detach().numpy().reshape(512,-1).T)"
   ]
  },
  {
   "cell_type": "code",
   "execution_count": 54,
   "metadata": {},
   "outputs": [
    {
     "data": {
      "text/plain": [
       "array([11,  0,  1, 14, 20, 17], dtype=int32)"
      ]
     },
     "execution_count": 54,
     "metadata": {},
     "output_type": "execute_result"
    }
   ],
   "source": [
    "np.array(list(map(ord, 'labour')), dtype='int32')-ord('a')"
   ]
  },
  {
   "cell_type": "code",
   "execution_count": 67,
   "metadata": {},
   "outputs": [
    {
     "data": {
      "text/plain": [
       "tensor([19.])"
      ]
     },
     "execution_count": 67,
     "metadata": {},
     "output_type": "execute_result"
    }
   ],
   "source": [
    "torch.Tensor([int(w/8)])"
   ]
  },
  {
   "cell_type": "code",
   "execution_count": 61,
   "metadata": {},
   "outputs": [
    {
     "name": "stdout",
     "output_type": "stream",
     "text": [
      "None\n"
     ]
    }
   ],
   "source": [
    "print(torch.Tensor.__doc__)"
   ]
  },
  {
   "cell_type": "code",
   "execution_count": 130,
   "metadata": {},
   "outputs": [],
   "source": [
    "rec = TextRecognizer(512, 27)"
   ]
  },
  {
   "cell_type": "code",
   "execution_count": 131,
   "metadata": {},
   "outputs": [],
   "source": [
    "loss = nn.CTCLoss()\n",
    "optimizer = optim.Adam(rec.parameters(), lr=1e-3)"
   ]
  },
  {
   "cell_type": "code",
   "execution_count": 132,
   "metadata": {},
   "outputs": [],
   "source": [
    "input = ag.Variable(torch.Tensor(a.reshape(1,1,32,-1)))\n",
    "targets = ag.Variable(torch.IntTensor(list(map(ord, 'labour')))-ord('a')+1)\n",
    "in_lengths = ag.Variable(torch.IntTensor([int(w/8)]))\n",
    "tar_lengths = ag.Variable(torch.IntTensor([targets.size()[0]]))"
   ]
  },
  {
   "cell_type": "code",
   "execution_count": 133,
   "metadata": {},
   "outputs": [
    {
     "data": {
      "text/plain": [
       "tensor([19], dtype=torch.int32)"
      ]
     },
     "execution_count": 133,
     "metadata": {},
     "output_type": "execute_result"
    }
   ],
   "source": [
    "in_lengths"
   ]
  },
  {
   "cell_type": "code",
   "execution_count": 134,
   "metadata": {},
   "outputs": [
    {
     "name": "stdout",
     "output_type": "stream",
     "text": [
      "Epoch 0: 7.886497\n",
      "Epoch 10: 1.580204\n",
      "Epoch 20: 0.814723\n",
      "Epoch 30: 0.418640\n",
      "Epoch 40: 0.211289\n",
      "Epoch 50: 0.118137\n",
      "Epoch 60: 0.020908\n",
      "Epoch 70: 0.007994\n",
      "Epoch 80: 0.004302\n",
      "Epoch 90: 0.002857\n",
      "CPU times: user 3min 24s, sys: 40.8 s, total: 4min 4s\n",
      "Wall time: 3min\n"
     ]
    }
   ],
   "source": [
    "%%time\n",
    "eps = np.zeros(100)\n",
    "for ep in range(eps.shape[0]):\n",
    "    optimizer.zero_grad()\n",
    "    output = rec(input)\n",
    "    cost = loss(output, targets, in_lengths, tar_lengths)\n",
    "    cost.backward()\n",
    "    optimizer.step()\n",
    "    eps[ep] = cost\n",
    "    if ep % 10 == 0:\n",
    "        print('Epoch %d: %f' % (ep, cost))"
   ]
  },
  {
   "cell_type": "code",
   "execution_count": 401,
   "metadata": {},
   "outputs": [
    {
     "data": {
      "image/png": "[encoded data removed]",
      "text/plain": [
       "<matplotlib.figure.Figure at 0x1251ccf28>"
      ]
     },
     "metadata": {},
     "output_type": "display_data"
    }
   ],
   "source": [
    "plt.plot(eps)\n",
    "plt.show()"
   ]
  },
  {
   "cell_type": "code",
   "execution_count": 136,
   "metadata": {},
   "outputs": [
    {
     "data": {
      "text/plain": [
       "<matplotlib.image.AxesImage at 0x110c97fd0>"
      ]
     },
     "execution_count": 136,
     "metadata": {},
     "output_type": "execute_result"
    },
    {
     "data": {
      "image/png": "[encoded data removed]",
      "text/plain": [
       "<matplotlib.figure.Figure at 0x10a7367b8>"
      ]
     },
     "metadata": {},
     "output_type": "display_data"
    }
   ],
   "source": [
    "with torch.no_grad():\n",
    "    output = rec(input)\n",
    "plt.imshow(output.detach().numpy().reshape(-1, 27).T)"
   ]
  },
  {
   "cell_type": "code",
   "execution_count": 139,
   "metadata": {},
   "outputs": [],
   "source": [
    "import preprocess as pr"
   ]
  },
  {
   "cell_type": "code",
   "execution_count": 431,
   "metadata": {},
   "outputs": [
    {
     "data": {
      "text/plain": [
       "<module 'preprocess' from '/Users/atadenizaydin/Documents/course material/cs491/nino-server/seg/preprocess.py'>"
      ]
     },
     "execution_count": 431,
     "metadata": {},
     "output_type": "execute_result"
    }
   ],
   "source": [
    "from importlib import reload\n",
    "reload(ds)\n",
    "reload(pr)"
   ]
  },
  {
   "cell_type": "code",
   "execution_count": 425,
   "metadata": {},
   "outputs": [
    {
     "data": {
      "text/plain": [
       "<module 'preprocess' from '/Users/atadenizaydin/Documents/course material/cs491/nino-server/seg/preprocess.py'>"
      ]
     },
     "execution_count": 425,
     "metadata": {},
     "output_type": "execute_result"
    }
   ],
   "source": [
    "reload(pr)"
   ]
  },
  {
   "cell_type": "code",
   "execution_count": 432,
   "metadata": {},
   "outputs": [
    {
     "name": "stdout",
     "output_type": "stream",
     "text": [
      "Processing 81 batches of 4031 images of width 16 (1/31)\n",
      "Processing 274 batches of 13672 images of width 32 (2/31)\n",
      "Processing 321 batches of 16008 images of width 48 (3/31)\n",
      "Processing 320 batches of 15996 images of width 64 (4/31)\n",
      "Processing 270 batches of 13493 images of width 80 (5/31)\n",
      "Processing 209 batches of 10438 images of width 96 (6/31)\n",
      "Processing 147 batches of 7342 images of width 112 (7/31)\n",
      "Processing 103 batches of 5146 images of width 128 (8/31)\n",
      "Processing 71 batches of 3507 images of width 144 (9/31)\n",
      "Processing 47 batches of 2334 images of width 160 (10/31)\n",
      "Processing 31 batches of 1533 images of width 176 (11/31)\n",
      "Processing 21 batches of 1037 images of width 192 (12/31)\n",
      "Processing 14 batches of 678 images of width 208 (13/31)\n",
      "Processing 9 batches of 443 images of width 224 (14/31)\n",
      "Processing 6 batches of 281 images of width 240 (15/31)\n",
      "Processing 4 batches of 155 images of width 256 (16/31)\n",
      "Processing 3 batches of 124 images of width 272 (17/31)\n",
      "Processing 2 batches of 79 images of width 288 (18/31)\n",
      "Processing 1 batches of 47 images of width 304 (19/31)\n",
      "Processing 1 batches of 23 images of width 320 (20/31)\n",
      "Processing 1 batches of 18 images of width 336 (21/31)\n",
      "Processing 1 batches of 17 images of width 352 (22/31)\n",
      "Processing 1 batches of 10 images of width 368 (23/31)\n",
      "Processing 1 batches of 4 images of width 384 (24/31)\n",
      "Processing 1 batches of 5 images of width 400 (25/31)\n",
      "Processing 1 batches of 4 images of width 416 (26/31)\n",
      "Processing 1 batches of 1 images of width 432 (27/31)\n",
      "Processing 1 batches of 1 images of width 448 (28/31)\n",
      "Processing 1 batches of 1 images of width 464 (29/31)\n",
      "Processing 1 batches of 1 images of width 480 (30/31)\n",
      "Processing 1 batches of 1 images of width 512 (31/31)\n"
     ]
    }
   ],
   "source": [
    "iamtr = pr.IAMTrainDataset(iam, 'train', 50, verbose=True, create=False)"
   ]
  },
  {
   "cell_type": "code",
   "execution_count": 357,
   "metadata": {},
   "outputs": [
    {
     "data": {
      "text/plain": [
       "Sample('3-299')"
      ]
     },
     "execution_count": 357,
     "metadata": {},
     "output_type": "execute_result"
    }
   ],
   "source": [
    "samb = iamtr.samlist[1000]\n",
    "samb"
   ]
  },
  {
   "cell_type": "code",
   "execution_count": 358,
   "metadata": {},
   "outputs": [],
   "source": [
    "bb = np.load(samb.path)"
   ]
  },
  {
   "cell_type": "code",
   "execution_count": 352,
   "metadata": {},
   "outputs": [],
   "source": [
    "bb = bb[14:]\n",
    "text = samb.text[samb.lengths[:14].sum():]\n",
    "lengths = samb.lengths[14:]"
   ]
  },
  {
   "cell_type": "code",
   "execution_count": 359,
   "metadata": {},
   "outputs": [],
   "source": [
    "n, h, w = bb.shape"
   ]
  },
  {
   "cell_type": "code",
   "execution_count": 361,
   "metadata": {},
   "outputs": [
    {
     "data": {
      "image/png": "[encoded data removed]",
      "text/plain": [
       "<matplotlib.figure.Figure at 0x111367630>"
      ]
     },
     "metadata": {},
     "output_type": "display_data"
    }
   ],
   "source": [
    "plt.imshow(bb[40], cmap='gray')\n",
    "plt.show()"
   ]
  },
  {
   "cell_type": "code",
   "execution_count": 345,
   "metadata": {},
   "outputs": [],
   "source": [
    "rec1 = TextRecognizer(512, 27)\n",
    "loss1 = nn.CTCLoss(reduction='mean')\n",
    "optimizer1 = optim.Adam(rec1.parameters(), lr=1e-3)"
   ]
  },
  {
   "cell_type": "code",
   "execution_count": 346,
   "metadata": {},
   "outputs": [],
   "source": [
    "inputb1 = ag.Variable(torch.Tensor(bb.reshape(n,1,h,w)))\n",
    "targets1 = ag.Variable(torch.IntTensor([ord(c)-ord('a')+1 if c.isalpha() else 1 for c in text.lower()]))\n",
    "in_lengths1 = ag.Variable(torch.IntTensor([int(w/8)]*n))\n",
    "tar_lengths1 = ag.Variable(torch.IntTensor(lengths))"
   ]
  },
  {
   "cell_type": "code",
   "execution_count": 347,
   "metadata": {},
   "outputs": [
    {
     "data": {
      "text/plain": [
       "torch.Size([36])"
      ]
     },
     "execution_count": 347,
     "metadata": {},
     "output_type": "execute_result"
    }
   ],
   "source": [
    "in_lengths1.size()"
   ]
  },
  {
   "cell_type": "code",
   "execution_count": 348,
   "metadata": {},
   "outputs": [
    {
     "name": "stdout",
     "output_type": "stream",
     "text": [
      "Epoch 0: 6.629757\n",
      "Epoch 10: 3.044316\n",
      "Epoch 20: 2.744412\n",
      "Epoch 30: 2.423383\n",
      "Epoch 40: 2.049024\n",
      "Epoch 50: 1.560494\n",
      "Epoch 60: 1.069813\n",
      "Epoch 70: 0.634588\n",
      "Epoch 80: 0.381785\n",
      "Epoch 90: 0.290798\n",
      "CPU times: user 9min 28s, sys: 36.9 s, total: 10min 5s\n",
      "Wall time: 7min 57s\n"
     ]
    }
   ],
   "source": [
    "%%time\n",
    "eps = np.zeros(100)\n",
    "for ep in range(eps.shape[0]):\n",
    "    optimizer1.zero_grad()\n",
    "    output = rec1(inputb1)\n",
    "    cost = loss1(output, targets1, in_lengths1, tar_lengths1)\n",
    "    cost.backward()\n",
    "    optimizer1.step()\n",
    "    eps[ep] = cost\n",
    "    if ep % 10 == 0:\n",
    "        print('Epoch %d: %f' % (ep, cost))"
   ]
  },
  {
   "cell_type": "code",
   "execution_count": 258,
   "metadata": {},
   "outputs": [
    {
     "data": {
      "text/plain": [
       "torch.Size([8, 36, 27])"
      ]
     },
     "execution_count": 258,
     "metadata": {},
     "output_type": "execute_result"
    }
   ],
   "source": [
    "output.shape"
   ]
  },
  {
   "cell_type": "code",
   "execution_count": null,
   "metadata": {},
   "outputs": [],
   "source": []
  },
  {
   "cell_type": "code",
   "execution_count": 259,
   "metadata": {},
   "outputs": [
    {
     "data": {
      "image/png": "[encoded data removed]",
      "text/plain": [
       "<matplotlib.figure.Figure at 0x118d1d080>"
      ]
     },
     "metadata": {},
     "output_type": "display_data"
    }
   ],
   "source": [
    "plt.imshow(np.exp(output.detach().numpy()[:,26,:]).T)\n",
    "plt.show()"
   ]
  },
  {
   "cell_type": "code",
   "execution_count": 253,
   "metadata": {},
   "outputs": [
    {
     "data": {
      "text/plain": [
       "[20, 8, 5]"
      ]
     },
     "execution_count": 253,
     "metadata": {},
     "output_type": "execute_result"
    }
   ],
   "source": [
    "[ord(c)-ord('a')+1 if c.isalpha() else 1 for c in 'the']"
   ]
  },
  {
   "cell_type": "code",
   "execution_count": 239,
   "metadata": {},
   "outputs": [
    {
     "data": {
      "text/plain": [
       "array([1.       , 1.0000001, 1.       , 1.       , 1.       , 0.9999998,\n",
       "       1.       , 1.0000002], dtype=float32)"
      ]
     },
     "execution_count": 239,
     "metadata": {},
     "output_type": "execute_result"
    }
   ],
   "source": [
    "np.exp(output.detach().numpy()[:,13,:]).sum(axis=1)"
   ]
  },
  {
   "cell_type": "code",
   "execution_count": 232,
   "metadata": {},
   "outputs": [
    {
     "data": {
      "text/plain": [
       "tensor([20.2929, 20.1739, 20.2327, 20.2608, 20.6830, 20.1432, 20.2195, 20.1699,\n",
       "        21.8127, 20.0765, 20.2679, 23.6220,     inf, 20.2217, 20.2928, 20.0842,\n",
       "        20.1449, 23.7362, 20.1557, 21.0426, 20.9375, 20.2135, 20.3132, 20.1517,\n",
       "        26.4827, 23.7501, 20.9313, 21.0031, 20.1942, 20.1486, 20.1750, 26.2748,\n",
       "        20.9295, 21.0041, 20.7316, 20.1463, 22.8970, 21.9548, 20.2871, 20.0846,\n",
       "        20.1569, 23.7816, 20.6535, 20.1586, 20.1604, 20.1534, 20.0872, 20.1160,\n",
       "        26.4469, 20.1703], grad_fn=<CtcLossBackward>)"
      ]
     },
     "execution_count": 232,
     "metadata": {},
     "output_type": "execute_result"
    }
   ],
   "source": [
    "loss(output, targets, in_lengths, tar_lengths)"
   ]
  },
  {
   "cell_type": "code",
   "execution_count": 216,
   "metadata": {},
   "outputs": [
    {
     "data": {
      "text/plain": [
       "tensor([19,  1, 25,  2, 15,  4, 25,  8,  5, 18, 18,  5,  1, 12, 20, 21, 18, 14,\n",
       "        19, 23,  5, 19, 20,  6, 15, 18,  2,  1,  3, 11, 13,  1, 11,  9, 14,  7,\n",
       "        23,  9, 20,  8, 19, 21,  3,  8, 20,  1, 12,  5, 14, 20, 19,  6,  5,  5,\n",
       "        12,  9, 14,  7, 19,  8,  9, 19,  4, 18, 15, 16, 23,  9, 20,  8, 20,  8,\n",
       "         5, 12,  9, 20, 20, 12,  5, 20,  8,  5, 23,  5,  9, 14, 12,  1, 19, 20,\n",
       "         1, 14,  4, 20,  8,  5, 16, 18,  5, 16,  1, 18,  5,  4, 15,  6,  6,  9,\n",
       "         3,  5,  9, 14, 15,  6,  1, 14, 25, 20,  8,  5, 25,  5,  1, 18, 13,  5,\n",
       "         5, 20,  9, 14,  7,  9, 14,  8,  5, 16,  9,  5,  3,  5, 14,  1, 20, 15,\n",
       "         1, 16,  5, 15, 16, 12,  5, 16,  1, 21, 12, 20,  8,  1, 20, 20,  8,  5,\n",
       "        12, 15,  7,  9,  3,  1, 12, 20,  8,  5,  9, 18, 20,  8,  5, 14, 15, 20,\n",
       "        20,  8,  5, 20,  8,  9, 19, 11,  9, 14,  4,  3,  1, 16, 20, 21, 18,  5,\n",
       "         4,  2,  1,  3, 11], dtype=torch.int32)"
      ]
     },
     "execution_count": 216,
     "metadata": {},
     "output_type": "execute_result"
    }
   ],
   "source": [
    "targets"
   ]
  },
  {
   "cell_type": "code",
   "execution_count": 217,
   "metadata": {},
   "outputs": [
    {
     "data": {
      "text/plain": [
       "tensor([3, 4, 3, 4, 5, 4, 3, 4, 6, 4, 4, 7, 8, 3, 4, 4, 3, 6, 3, 2, 2, 4, 3, 3,\n",
       "        8, 6, 2, 2, 3, 3, 4, 7, 2, 2, 5, 4, 1, 6, 4, 4, 3, 7, 5, 3, 3, 3, 4, 4,\n",
       "        8, 4], dtype=torch.int32)"
      ]
     },
     "execution_count": 217,
     "metadata": {},
     "output_type": "execute_result"
    }
   ],
   "source": [
    "tar_lengths"
   ]
  },
  {
   "cell_type": "code",
   "execution_count": 237,
   "metadata": {},
   "outputs": [
    {
     "data": {
      "image/png": "[encoded data removed]",
      "text/plain": [
       "<matplotlib.figure.Figure at 0x111502da0>"
      ]
     },
     "metadata": {},
     "output_type": "display_data"
    }
   ],
   "source": [
    "plt.imshow(bb[13], cmap='gray')\n",
    "plt.show()"
   ]
  },
  {
   "cell_type": "code",
   "execution_count": 240,
   "metadata": {},
   "outputs": [
    {
     "data": {
      "text/plain": [
       "tensor(8, dtype=torch.int32)"
      ]
     },
     "execution_count": 240,
     "metadata": {},
     "output_type": "execute_result"
    }
   ],
   "source": [
    "in_lengths[13]"
   ]
  },
  {
   "cell_type": "code",
   "execution_count": 241,
   "metadata": {},
   "outputs": [
    {
     "data": {
      "text/plain": [
       "tensor(3, dtype=torch.int32)"
      ]
     },
     "execution_count": 241,
     "metadata": {},
     "output_type": "execute_result"
    }
   ],
   "source": [
    "tar_lengths[13]"
   ]
  },
  {
   "cell_type": "code",
   "execution_count": 586,
   "metadata": {},
   "outputs": [
    {
     "data": {
      "image/png": "[encoded data removed]",
      "text/plain": [
       "<matplotlib.figure.Figure at 0x126b28da0>"
      ]
     },
     "metadata": {},
     "output_type": "display_data"
    }
   ],
   "source": [
    "plt.imshow(a > s.thres, cmap='gray')\n",
    "plt.show()"
   ]
  },
  {
   "cell_type": "code",
   "execution_count": 262,
   "metadata": {},
   "outputs": [],
   "source": [
    "with torch.no_grad():\n",
    "    testout = rec(input)"
   ]
  },
  {
   "cell_type": "code",
   "execution_count": 264,
   "metadata": {},
   "outputs": [
    {
     "data": {
      "text/plain": [
       "torch.Size([19, 1, 27])"
      ]
     },
     "execution_count": 264,
     "metadata": {},
     "output_type": "execute_result"
    }
   ],
   "source": [
    "testout.shape"
   ]
  },
  {
   "cell_type": "code",
   "execution_count": 265,
   "metadata": {},
   "outputs": [
    {
     "data": {
      "image/png": "[encoded data removed]",
      "text/plain": [
       "<matplotlib.figure.Figure at 0x116a1aa58>"
      ]
     },
     "metadata": {},
     "output_type": "display_data"
    }
   ],
   "source": [
    "plt.imshow(np.exp(testout.detach().numpy().reshape(19,27)).T)\n",
    "plt.show()"
   ]
  },
  {
   "cell_type": "code",
   "execution_count": 363,
   "metadata": {},
   "outputs": [],
   "source": [
    "bb = np.load(samb.path)"
   ]
  },
  {
   "cell_type": "code",
   "execution_count": 364,
   "metadata": {},
   "outputs": [],
   "source": [
    "bb = bb#[14:]\n",
    "text = samb.text#[samb.lengths[:14].sum():]\n",
    "lengths = samb.lengths#[14:]"
   ]
  },
  {
   "cell_type": "code",
   "execution_count": 365,
   "metadata": {},
   "outputs": [],
   "source": [
    "n, h, w = bb.shape"
   ]
  },
  {
   "cell_type": "code",
   "execution_count": 366,
   "metadata": {},
   "outputs": [
    {
     "name": "stdout",
     "output_type": "stream",
     "text": [
      "CPU times: user 1.27 s, sys: 211 ms, total: 1.48 s\n",
      "Wall time: 1.35 s\n"
     ]
    }
   ],
   "source": [
    "%%time\n",
    "with torch.no_grad():\n",
    "    rec1 = TextRecognizer(512, 27)\n",
    "    loss1 = nn.CTCLoss(reduction='none')\n",
    "    inputb1 = ag.Variable(torch.Tensor(bb.reshape(n,1,h,w)))\n",
    "    targets1 = ag.Variable(torch.IntTensor([ord(c)-ord('a')+1 if c.isalpha() else 1 for c in text.lower()]))\n",
    "    in_lengths1 = ag.Variable(torch.IntTensor([int(w/8)]*n))\n",
    "    tar_lengths1 = ag.Variable(torch.IntTensor(lengths))\n",
    "    output = rec1(inputb1)\n",
    "    cost = loss1(output, targets1, in_lengths1, tar_lengths1)"
   ]
  },
  {
   "cell_type": "code",
   "execution_count": 367,
   "metadata": {},
   "outputs": [
    {
     "data": {
      "text/plain": [
       "tensor([20.2996, 20.1733, 20.2738, 20.1231, 20.7463, 20.1526, 20.2625, 20.1475,\n",
       "        21.8272, 20.0912, 20.2661, 23.6156,     inf, 20.2878, 20.1660, 20.0895,\n",
       "        20.2505, 23.7054, 20.2332, 20.9799, 20.9746, 20.1439, 20.1810, 20.2415,\n",
       "        26.3431, 23.7897, 20.9618, 21.0372, 20.2345, 20.2410, 20.1555, 26.3212,\n",
       "        20.9801, 21.0744, 20.6706, 20.0875, 22.7349, 21.8614, 20.1381, 20.0961,\n",
       "        20.2469, 23.5746, 20.6906, 20.2455, 20.1920, 20.2353, 20.1824, 20.1157,\n",
       "        26.3127, 20.1480])"
      ]
     },
     "execution_count": 367,
     "metadata": {},
     "output_type": "execute_result"
    }
   ],
   "source": [
    "cost"
   ]
  },
  {
   "cell_type": "code",
   "execution_count": 377,
   "metadata": {},
   "outputs": [
    {
     "data": {
      "text/plain": [
       "[12]"
      ]
     },
     "execution_count": 377,
     "metadata": {},
     "output_type": "execute_result"
    }
   ],
   "source": [
    "infs = [int(a[0]) for a in np.argwhere(np.isinf(cost))]\n",
    "infs.sort(reverse=True) # needed in order to remove indices one by one\n",
    "infs"
   ]
  },
  {
   "cell_type": "code",
   "execution_count": 385,
   "metadata": {},
   "outputs": [],
   "source": [
    "# for each element in infs, remove it from batch, text and lengths\n",
    "bb1 = bb\n",
    "text1 = text\n",
    "lengths1 = lengths\n",
    "for ind in infs:\n",
    "    bb1 = np.delete(bb1, ind, axis=0)\n",
    "    text1 = text1[:lengths1[:ind].sum()] + text1[lengths1[:ind+1].sum():]\n",
    "    lengths1 = np.delete(lengths1, ind)"
   ]
  },
  {
   "cell_type": "code",
   "execution_count": 386,
   "metadata": {},
   "outputs": [
    {
     "data": {
      "text/plain": [
       "(49, 32, 64)"
      ]
     },
     "execution_count": 386,
     "metadata": {},
     "output_type": "execute_result"
    }
   ],
   "source": [
    "bb1.shape"
   ]
  },
  {
   "cell_type": "code",
   "execution_count": 387,
   "metadata": {},
   "outputs": [],
   "source": [
    "n1, h, w = bb1.shape"
   ]
  },
  {
   "cell_type": "code",
   "execution_count": 397,
   "metadata": {},
   "outputs": [],
   "source": [
    "rec1 = TextRecognizer(512, 27)\n",
    "loss1 = nn.CTCLoss(reduction='mean')\n",
    "optimizer1 = optim.Adam(rec1.parameters(), lr=1e-3)"
   ]
  },
  {
   "cell_type": "code",
   "execution_count": 398,
   "metadata": {},
   "outputs": [],
   "source": [
    "inputb1 = ag.Variable(torch.Tensor(bb1.reshape(n1,1,h,w)), requires_grad=True)\n",
    "targets1 = ag.Variable(torch.IntTensor([ord(c)-ord('a')+1 if c.isalpha() else 1 for c in text1.lower()]))\n",
    "in_lengths1 = ag.Variable(torch.IntTensor([int(w/8)]*n1))\n",
    "tar_lengths1 = ag.Variable(torch.IntTensor(lengths1))"
   ]
  },
  {
   "cell_type": "code",
   "execution_count": 399,
   "metadata": {},
   "outputs": [
    {
     "data": {
      "text/plain": [
       "torch.Size([49])"
      ]
     },
     "execution_count": 399,
     "metadata": {},
     "output_type": "execute_result"
    }
   ],
   "source": [
    "in_lengths1.size()"
   ]
  },
  {
   "cell_type": "code",
   "execution_count": 400,
   "metadata": {},
   "outputs": [
    {
     "name": "stdout",
     "output_type": "stream",
     "text": [
      "Epoch 0: 6.213845\n",
      "Epoch 10: 3.223291\n",
      "Epoch 20: 2.989296\n",
      "Epoch 30: 2.802313\n",
      "Epoch 40: 2.573885\n",
      "Epoch 50: 2.248564\n",
      "Epoch 60: 1.847091\n",
      "Epoch 70: 1.458253\n",
      "Epoch 80: 0.955757\n",
      "Epoch 90: 1.008744\n",
      "CPU times: user 12min 54s, sys: 33.3 s, total: 13min 27s\n",
      "Wall time: 7min 12s\n"
     ]
    }
   ],
   "source": [
    "%%time\n",
    "eps = np.zeros(100)\n",
    "for ep in range(eps.shape[0]):\n",
    "    optimizer1.zero_grad()\n",
    "    output = rec1(inputb1)\n",
    "    cost = loss1(output, targets1, in_lengths1, tar_lengths1)\n",
    "    cost.backward()\n",
    "    optimizer1.step()\n",
    "    eps[ep] = cost\n",
    "    if ep % 10 == 0:\n",
    "        print('Epoch %d: %f' % (ep, cost))"
   ]
  },
  {
   "cell_type": "code",
   "execution_count": 406,
   "metadata": {},
   "outputs": [
    {
     "data": {
      "text/plain": [
       "tensor([1, 1, 1, 1, 1, 1, 1, 1, 1, 1, 1, 1, 1, 1, 1, 1, 1, 1, 1, 1, 1, 1, 1, 1,\n",
       "        1, 1, 1, 1, 1, 1, 1, 1, 1, 1, 1], dtype=torch.uint8)"
      ]
     },
     "execution_count": 406,
     "metadata": {},
     "output_type": "execute_result"
    }
   ],
   "source": [
    "torch.isfinite(costs[15:])"
   ]
  },
  {
   "cell_type": "code",
   "execution_count": 407,
   "metadata": {},
   "outputs": [],
   "source": [
    "import htr"
   ]
  },
  {
   "cell_type": "code",
   "execution_count": 563,
   "metadata": {},
   "outputs": [
    {
     "data": {
      "text/plain": [
       "<module 'htr' from '/Users/atadenizaydin/Documents/course material/cs491/nino-server/seg/htr.py'>"
      ]
     },
     "execution_count": 563,
     "metadata": {},
     "output_type": "execute_result"
    }
   ],
   "source": [
    "from importlib import reload\n",
    "reload(htr)"
   ]
  },
  {
   "cell_type": "code",
   "execution_count": 568,
   "metadata": {},
   "outputs": [],
   "source": [
    "trec = htr.TextRecognizer(lr=1e-3)"
   ]
  },
  {
   "cell_type": "code",
   "execution_count": 473,
   "metadata": {},
   "outputs": [
    {
     "data": {
      "text/plain": [
       "Sample('3-299')"
      ]
     },
     "execution_count": 473,
     "metadata": {},
     "output_type": "execute_result"
    }
   ],
   "source": [
    "samb"
   ]
  },
  {
   "cell_type": "code",
   "execution_count": 474,
   "metadata": {},
   "outputs": [],
   "source": [
    "samb.checked = False"
   ]
  },
  {
   "cell_type": "code",
   "execution_count": 569,
   "metadata": {},
   "outputs": [
    {
     "name": "stdout",
     "output_type": "stream",
     "text": [
      "Iteration 10: inf\n",
      "Iteration 20: 0.068900\n",
      "Iteration 30: 0.063984\n",
      "Iteration 40: 0.069172\n",
      "Iteration 50: 0.068100\n",
      "Iteration 60: 0.064991\n",
      "Iteration 70: 0.068584\n",
      "Iteration 80: 0.065008\n",
      "Iteration 90: 0.063888\n",
      "Iteration 100: 0.063536\n",
      "Iteration 110: inf\n",
      "Iteration 120: 0.065414\n",
      "Iteration 130: 0.061374\n",
      "Iteration 140: 0.067169\n",
      "Iteration 150: 0.063363\n",
      "Iteration 160: 0.063128\n",
      "Iteration 170: 0.066192\n",
      "Iteration 180: 0.060817\n",
      "Iteration 190: 0.061206\n",
      "Iteration 200: 0.058030\n",
      "Iteration 210: inf\n",
      "Iteration 220: 0.055757\n",
      "Iteration 230: 0.044813\n",
      "Iteration 240: 0.054914\n",
      "Iteration 250: 0.050112\n",
      "Iteration 260: 0.050470\n",
      "Iteration 270: 0.055201\n",
      "Iteration 280: 0.045219\n",
      "Iteration 290: 0.051333\n",
      "Iteration 300: 0.049016\n",
      "Iteration 310: inf\n",
      "Iteration 320: 0.050428\n",
      "Iteration 330: 0.039931\n",
      "Iteration 340: 0.051451\n",
      "Iteration 350: 0.046446\n",
      "Iteration 360: 0.047530\n",
      "Iteration 370: 0.050904\n",
      "Iteration 380: 0.042875\n",
      "Iteration 390: 0.049061\n",
      "Iteration 400: 0.045706\n",
      "CPU times: user 27min 6s, sys: 1min 10s, total: 28min 17s\n",
      "Wall time: 29min 36s\n"
     ]
    }
   ],
   "source": [
    "%%time\n",
    "scores = trec.train(iamtr.samlist[600:700], verbose=10, eps=4)"
   ]
  },
  {
   "cell_type": "code",
   "execution_count": 499,
   "metadata": {},
   "outputs": [
    {
     "name": "stdout",
     "output_type": "stream",
     "text": [
      "Iteration 20: 1.285811\n",
      "Iteration 40: 0.980917\n",
      "Iteration 60: 1.629125\n",
      "Iteration 80: 4.497238\n",
      "Iteration 100: 2.893412\n",
      "Iteration 120: 2.857885\n",
      "Iteration 140: 2.099430\n",
      "Iteration 160: 1.760744\n",
      "Iteration 180: 1.743127\n",
      "Iteration 200: inf\n",
      "Iteration 220: 1.140361\n",
      "Iteration 240: 0.905165\n",
      "Iteration 260: 1.360353\n",
      "Iteration 280: 4.565733\n",
      "Iteration 300: 2.954562\n",
      "Iteration 320: 2.849166\n",
      "Iteration 340: 2.072846\n",
      "Iteration 360: 1.696903\n",
      "Iteration 380: 1.663427\n",
      "Iteration 400: inf\n",
      "Iteration 420: 1.132417\n",
      "Iteration 440: 0.939968\n",
      "Iteration 460: 1.402355\n",
      "Iteration 480: 4.230413\n",
      "Iteration 500: 2.834494\n",
      "Iteration 520: 2.843206\n",
      "Iteration 540: 1.990762\n",
      "Iteration 560: 1.674861\n",
      "Iteration 580: 1.551103\n",
      "Iteration 600: inf\n",
      "Iteration 620: 1.097524\n",
      "Iteration 640: 0.812900\n",
      "Iteration 660: 1.409550\n",
      "Iteration 680: 4.152123\n",
      "Iteration 700: 2.821033\n",
      "Iteration 720: 2.816270\n",
      "Iteration 740: 1.951191\n",
      "Iteration 760: 1.632849\n",
      "Iteration 780: 1.536930\n",
      "Iteration 800: inf\n",
      "Iteration 820: 1.121432\n",
      "Iteration 840: 0.837873\n",
      "Iteration 860: 1.385252\n",
      "Iteration 880: 3.932173\n",
      "Iteration 900: 2.765010\n",
      "Iteration 920: 2.798358\n",
      "Iteration 940: 1.921548\n",
      "Iteration 960: 1.664128\n",
      "Iteration 980: 1.584419\n",
      "Iteration 1000: inf\n",
      "Iteration 1020: 1.018324\n",
      "Iteration 1040: 0.895272\n",
      "Iteration 1060: 1.292289\n",
      "Iteration 1080: 3.456230\n",
      "Iteration 1100: 2.745536\n",
      "Iteration 1120: 2.792389\n",
      "Iteration 1140: 1.673651\n",
      "Iteration 1160: 1.596200\n",
      "Iteration 1180: 1.560007\n",
      "Iteration 1200: inf\n",
      "Iteration 1220: 0.985924\n",
      "Iteration 1240: 0.820800\n",
      "Iteration 1260: 1.106464\n",
      "Iteration 1280: 3.484800\n",
      "Iteration 1300: 2.714084\n",
      "Iteration 1320: 2.758838\n",
      "Iteration 1340: 1.590905\n",
      "Iteration 1360: 1.610271\n",
      "Iteration 1380: 1.471556\n",
      "Iteration 1400: inf\n",
      "Iteration 1420: 0.882464\n",
      "Iteration 1440: 0.743896\n",
      "Iteration 1460: 1.335284\n",
      "Iteration 1480: 3.190560\n",
      "Iteration 1500: 2.694759\n",
      "Iteration 1520: 2.736025\n",
      "Iteration 1540: 1.641585\n",
      "Iteration 1560: 1.551459\n",
      "Iteration 1580: 1.516134\n",
      "Iteration 1600: inf\n",
      "Iteration 1620: 0.868433\n",
      "Iteration 1640: 1.004460\n",
      "Iteration 1660: 1.138488\n",
      "Iteration 1680: 3.255462\n",
      "Iteration 1700: 2.747119\n",
      "Iteration 1720: 2.781324\n",
      "Iteration 1740: 1.712430\n",
      "Iteration 1760: 1.643761\n",
      "Iteration 1780: 1.632682\n",
      "Iteration 1800: inf\n",
      "Iteration 1820: 1.004989\n",
      "Iteration 1840: 0.845351\n",
      "Iteration 1860: 1.393621\n",
      "Iteration 1880: 3.329909\n",
      "Iteration 1900: 2.726666\n",
      "Iteration 1920: 2.763106\n",
      "Iteration 1940: 1.586640\n",
      "Iteration 1960: 1.511878\n",
      "Iteration 1980: 1.516667\n",
      "Iteration 2000: inf\n",
      "CPU times: user 8h 49min 29s, sys: 8min 55s, total: 8h 58min 24s\n",
      "Wall time: 4h 16s\n"
     ]
    }
   ],
   "source": [
    "%%time\n",
    "scores = trec.train(iamtr.samlist[200:600:2], verbose=20, eps=10)"
   ]
  },
  {
   "cell_type": "code",
   "execution_count": 500,
   "metadata": {},
   "outputs": [
    {
     "data": {
      "image/png": "[encoded data removed]",
      "text/plain": [
       "<matplotlib.figure.Figure at 0x10349f080>"
      ]
     },
     "metadata": {},
     "output_type": "display_data"
    }
   ],
   "source": [
    "plt.plot(scores)\n",
    "plt.show()"
   ]
  },
  {
   "cell_type": "code",
   "execution_count": 496,
   "metadata": {},
   "outputs": [
    {
     "name": "stdout",
     "output_type": "stream",
     "text": [
      "Iteration 10: inf\n",
      "Iteration 20: 3.288863\n",
      "Iteration 30: 3.110970\n",
      "Iteration 40: 3.326120\n",
      "Iteration 50: 3.281174\n",
      "Iteration 60: 3.142064\n",
      "Iteration 70: 3.297750\n",
      "Iteration 80: 3.127075\n",
      "Iteration 90: 3.069144\n",
      "Iteration 100: 3.067985\n",
      "Iteration 110: inf\n",
      "Iteration 120: 3.158773\n",
      "Iteration 130: 2.992600\n",
      "Iteration 140: 3.244528\n",
      "Iteration 150: 3.083434\n",
      "Iteration 160: 3.023106\n",
      "Iteration 170: 3.180522\n",
      "Iteration 180: 2.941768\n",
      "Iteration 190: 2.959300\n",
      "Iteration 200: 2.894417\n",
      "Iteration 210: inf\n",
      "Iteration 220: 2.730466\n",
      "Iteration 230: 2.115776\n",
      "Iteration 240: 2.655082\n",
      "Iteration 250: 2.578538\n",
      "Iteration 260: 2.433067\n",
      "Iteration 270: 2.659899\n",
      "Iteration 280: 2.169484\n",
      "Iteration 290: 2.570700\n",
      "Iteration 300: 2.366804\n",
      "Iteration 310: inf\n",
      "Iteration 320: 2.501689\n",
      "Iteration 330: 1.970793\n",
      "Iteration 340: 2.426146\n",
      "Iteration 350: 2.287870\n",
      "Iteration 360: 2.298030\n",
      "Iteration 370: 2.420786\n",
      "Iteration 380: 2.050580\n",
      "Iteration 390: 2.363007\n",
      "Iteration 400: 2.185000\n",
      "CPU times: user 31min 27s, sys: 1min 1s, total: 32min 28s\n",
      "Wall time: 17min 14s\n"
     ]
    }
   ],
   "source": [
    "%%time\n",
    "scores = trec.train(iamtr.samlist[600:700], verbose=10, eps=4)"
   ]
  },
  {
   "cell_type": "code",
   "execution_count": 570,
   "metadata": {},
   "outputs": [
    {
     "data": {
      "image/png": "[encoded data removed]",
      "text/plain": [
       "<matplotlib.figure.Figure at 0x1113524e0>"
      ]
     },
     "metadata": {},
     "output_type": "display_data"
    }
   ],
   "source": [
    "plt.plot(scores)\n",
    "plt.show()"
   ]
  },
  {
   "cell_type": "code",
   "execution_count": 572,
   "metadata": {},
   "outputs": [
    {
     "name": "stdout",
     "output_type": "stream",
     "text": [
      "Iteration 20: 0.044530\n",
      "Iteration 40: inf\n",
      "Iteration 60: inf\n",
      "Iteration 80: inf\n",
      "Iteration 100: 0.038353\n",
      "Iteration 120: 0.039362\n",
      "Iteration 140: 0.039483\n",
      "Iteration 160: 0.040977\n",
      "Iteration 180: 0.037287\n",
      "Iteration 200: 0.037270\n",
      "Iteration 220: 0.039208\n",
      "Iteration 240: inf\n",
      "Iteration 260: inf\n",
      "Iteration 280: inf\n",
      "Iteration 300: 0.035252\n",
      "Iteration 320: 0.037523\n",
      "Iteration 340: 0.035620\n",
      "Iteration 360: 0.037278\n",
      "Iteration 380: 0.035874\n",
      "Iteration 400: 0.033811\n",
      "Iteration 420: 0.035379\n",
      "Iteration 440: inf\n",
      "Iteration 460: inf\n",
      "Iteration 480: inf\n",
      "Iteration 500: 0.033189\n",
      "Iteration 520: 0.035737\n",
      "Iteration 540: 0.032040\n",
      "Iteration 560: 0.033502\n",
      "Iteration 580: 0.032019\n",
      "Iteration 600: 0.031604\n",
      "Iteration 620: 0.031252\n",
      "Iteration 640: inf\n",
      "Iteration 660: inf\n",
      "Iteration 680: inf\n",
      "Iteration 700: 0.029742\n",
      "Iteration 720: 0.031872\n",
      "Iteration 740: 0.028088\n",
      "Iteration 760: 0.031747\n",
      "Iteration 780: 0.030957\n",
      "Iteration 800: 0.027752\n",
      "CPU times: user 1h 27min 15s, sys: 3min 16s, total: 1h 30min 32s\n",
      "Wall time: 53min 35s\n"
     ]
    }
   ],
   "source": [
    "%%time\n",
    "scores = trec.train(iamtr.samlist[800:1000], verbose=20, eps=4)"
   ]
  },
  {
   "cell_type": "code",
   "execution_count": 573,
   "metadata": {},
   "outputs": [
    {
     "data": {
      "image/png": "[encoded data removed]",
      "text/plain": [
       "<matplotlib.figure.Figure at 0x1113826d8>"
      ]
     },
     "metadata": {},
     "output_type": "display_data"
    }
   ],
   "source": [
    "plt.plot(scores)\n",
    "plt.show()"
   ]
  },
  {
   "cell_type": "code",
   "execution_count": 575,
   "metadata": {},
   "outputs": [
    {
     "data": {
      "text/plain": [
       "0.14"
      ]
     },
     "execution_count": 575,
     "metadata": {},
     "output_type": "execute_result"
    }
   ],
   "source": [
    "np.isinf(scores).sum()/len(scores)"
   ]
  },
  {
   "cell_type": "code",
   "execution_count": 497,
   "metadata": {},
   "outputs": [
    {
     "data": {
      "image/png": "[encoded data removed]",
      "text/plain": [
       "<matplotlib.figure.Figure at 0x13d3cfa58>"
      ]
     },
     "metadata": {},
     "output_type": "display_data"
    }
   ],
   "source": [
    "plt.plot(scores)\n",
    "plt.show()"
   ]
  },
  {
   "cell_type": "code",
   "execution_count": 491,
   "metadata": {},
   "outputs": [
    {
     "name": "stdout",
     "output_type": "stream",
     "text": [
      "Iteration 10: 2.781487\n",
      "Iteration 20: 2.903193\n",
      "Iteration 30: 2.789490\n",
      "Iteration 40: 2.911816\n",
      "Iteration 50: 2.808728\n",
      "Iteration 60: 2.904442\n",
      "Iteration 70: 2.807475\n",
      "Iteration 80: 2.894804\n",
      "Iteration 90: 2.818458\n",
      "Iteration 100: 2.888176\n",
      "Iteration 110: 2.810699\n",
      "Iteration 120: 2.881685\n",
      "Iteration 130: 2.802428\n",
      "Iteration 140: 2.881972\n",
      "Iteration 150: 2.795087\n",
      "Iteration 160: 2.876505\n",
      "Iteration 170: 2.799182\n",
      "Iteration 180: 2.874360\n",
      "Iteration 190: 2.794110\n",
      "Iteration 200: 2.870930\n",
      "Iteration 210: 2.791736\n",
      "Iteration 220: 2.872919\n",
      "Iteration 230: 2.788676\n",
      "Iteration 240: 2.875626\n",
      "Iteration 250: 2.799785\n",
      "Iteration 260: 2.868978\n",
      "Iteration 270: 2.799282\n",
      "Iteration 280: 2.865036\n",
      "Iteration 290: 2.796334\n",
      "Iteration 300: 2.876235\n",
      "Iteration 310: 2.792416\n",
      "Iteration 320: 2.870354\n",
      "Iteration 330: 2.802742\n",
      "Iteration 340: 2.864365\n",
      "Iteration 350: 2.807518\n",
      "Iteration 360: 2.860716\n",
      "Iteration 370: 2.803412\n",
      "Iteration 380: 2.859736\n",
      "Iteration 390: 2.804858\n",
      "Iteration 400: 2.859247\n",
      "CPU times: user 4h 31min 14s, sys: 2min 44s, total: 4h 33min 58s\n",
      "Wall time: 4h 32min 9s\n"
     ]
    }
   ],
   "source": [
    "%%time\n",
    "scores = trec.train(iamtr.samlist[500:520], verbose=10, eps=20)"
   ]
  },
  {
   "cell_type": "code",
   "execution_count": 492,
   "metadata": {},
   "outputs": [
    {
     "data": {
      "image/png": "[encoded data removed]",
      "text/plain": [
       "<matplotlib.figure.Figure at 0x152b47898>"
      ]
     },
     "metadata": {},
     "output_type": "display_data"
    }
   ],
   "source": [
    "plt.plot(scores)\n",
    "plt.show()"
   ]
  },
  {
   "cell_type": "code",
   "execution_count": 546,
   "metadata": {},
   "outputs": [],
   "source": [
    "sambb = iamtr.samlist[955]"
   ]
  },
  {
   "cell_type": "code",
   "execution_count": 547,
   "metadata": {},
   "outputs": [
    {
     "data": {
      "text/plain": [
       "True"
      ]
     },
     "execution_count": 547,
     "metadata": {},
     "output_type": "execute_result"
    }
   ],
   "source": [
    "sambb.checked"
   ]
  },
  {
   "cell_type": "code",
   "execution_count": 576,
   "metadata": {},
   "outputs": [],
   "source": [
    "bb2 = np.load(sambb.path)"
   ]
  },
  {
   "cell_type": "code",
   "execution_count": 577,
   "metadata": {},
   "outputs": [],
   "source": [
    "bb3 = trec.check(sambb, bb2)"
   ]
  },
  {
   "cell_type": "code",
   "execution_count": 596,
   "metadata": {},
   "outputs": [],
   "source": [
    "bb3 = np.array(a > s.thres, dtype='int32').reshape((1,)+a.shape)"
   ]
  },
  {
   "cell_type": "code",
   "execution_count": 600,
   "metadata": {},
   "outputs": [],
   "source": [
    "ab = cv2.resize(a, (int(s.w / s.h * 32), 32))"
   ]
  },
  {
   "cell_type": "code",
   "execution_count": 602,
   "metadata": {},
   "outputs": [],
   "source": [
    "ab = cv2.threshold(ab, s.thres, 255, cv2.THRESH_BINARY)[1]"
   ]
  },
  {
   "cell_type": "code",
   "execution_count": 603,
   "metadata": {},
   "outputs": [
    {
     "data": {
      "image/png": "[encoded data removed]",
      "text/plain": [
       "<matplotlib.figure.Figure at 0x110d8eb38>"
      ]
     },
     "metadata": {},
     "output_type": "display_data"
    }
   ],
   "source": [
    "plt.imshow(ab, cmap='gray')\n",
    "plt.show()"
   ]
  },
  {
   "cell_type": "code",
   "execution_count": 605,
   "metadata": {},
   "outputs": [],
   "source": [
    "bb3 = ab.reshape((1,)+ab.shape)"
   ]
  },
  {
   "cell_type": "code",
   "execution_count": 1,
   "metadata": {},
   "outputs": [
    {
     "ename": "NameError",
     "evalue": "name 'bb3' is not defined",
     "output_type": "error",
     "traceback": [
      "\u001b[0;31m---------------------------------------------------------------------------\u001b[0m",
      "\u001b[0;31mNameError\u001b[0m                                 Traceback (most recent call last)",
      "\u001b[0;32m<ipython-input-1-5066b3f58728>\u001b[0m in \u001b[0;36m<module>\u001b[0;34m()\u001b[0m\n\u001b[0;32m----> 1\u001b[0;31m \u001b[0mn\u001b[0m\u001b[0;34m,\u001b[0m \u001b[0mh\u001b[0m\u001b[0;34m,\u001b[0m \u001b[0mw\u001b[0m \u001b[0;34m=\u001b[0m \u001b[0mbb3\u001b[0m\u001b[0;34m.\u001b[0m\u001b[0mshape\u001b[0m\u001b[0;34m\u001b[0m\u001b[0m\n\u001b[0m\u001b[1;32m      2\u001b[0m \u001b[0minput3\u001b[0m \u001b[0;34m=\u001b[0m \u001b[0mag\u001b[0m\u001b[0;34m.\u001b[0m\u001b[0mVariable\u001b[0m\u001b[0;34m(\u001b[0m\u001b[0mtorch\u001b[0m\u001b[0;34m.\u001b[0m\u001b[0mTensor\u001b[0m\u001b[0;34m(\u001b[0m\u001b[0mbb3\u001b[0m\u001b[0;34m.\u001b[0m\u001b[0mreshape\u001b[0m\u001b[0;34m(\u001b[0m\u001b[0mn\u001b[0m\u001b[0;34m,\u001b[0m\u001b[0;36m1\u001b[0m\u001b[0;34m,\u001b[0m\u001b[0mh\u001b[0m\u001b[0;34m,\u001b[0m\u001b[0mw\u001b[0m\u001b[0;34m)\u001b[0m\u001b[0;34m)\u001b[0m\u001b[0;34m)\u001b[0m\u001b[0;34m\u001b[0m\u001b[0m\n\u001b[1;32m      3\u001b[0m \u001b[0mtargets3\u001b[0m \u001b[0;34m=\u001b[0m \u001b[0mag\u001b[0m\u001b[0;34m.\u001b[0m\u001b[0mVariable\u001b[0m\u001b[0;34m(\u001b[0m\u001b[0mtorch\u001b[0m\u001b[0;34m.\u001b[0m\u001b[0mIntTensor\u001b[0m\u001b[0;34m(\u001b[0m\u001b[0mtrec\u001b[0m\u001b[0;34m.\u001b[0m\u001b[0mencode\u001b[0m\u001b[0;34m(\u001b[0m\u001b[0msambb\u001b[0m\u001b[0;34m.\u001b[0m\u001b[0mtext\u001b[0m\u001b[0;34m)\u001b[0m\u001b[0;34m)\u001b[0m\u001b[0;34m)\u001b[0m\u001b[0;34m\u001b[0m\u001b[0m\n\u001b[1;32m      4\u001b[0m \u001b[0min_lengths3\u001b[0m \u001b[0;34m=\u001b[0m \u001b[0mag\u001b[0m\u001b[0;34m.\u001b[0m\u001b[0mVariable\u001b[0m\u001b[0;34m(\u001b[0m\u001b[0mtorch\u001b[0m\u001b[0;34m.\u001b[0m\u001b[0mIntTensor\u001b[0m\u001b[0;34m(\u001b[0m\u001b[0;34m[\u001b[0m\u001b[0mint\u001b[0m\u001b[0;34m(\u001b[0m\u001b[0mw\u001b[0m\u001b[0;34m/\u001b[0m\u001b[0;36m8\u001b[0m\u001b[0;34m)\u001b[0m\u001b[0;34m]\u001b[0m\u001b[0;34m*\u001b[0m\u001b[0mn\u001b[0m\u001b[0;34m)\u001b[0m\u001b[0;34m)\u001b[0m\u001b[0;34m\u001b[0m\u001b[0m\n\u001b[1;32m      5\u001b[0m \u001b[0mtar_lengths3\u001b[0m \u001b[0;34m=\u001b[0m \u001b[0mag\u001b[0m\u001b[0;34m.\u001b[0m\u001b[0mVariable\u001b[0m\u001b[0;34m(\u001b[0m\u001b[0mtorch\u001b[0m\u001b[0;34m.\u001b[0m\u001b[0mIntTensor\u001b[0m\u001b[0;34m(\u001b[0m\u001b[0msambb\u001b[0m\u001b[0;34m.\u001b[0m\u001b[0mlengths\u001b[0m\u001b[0;34m)\u001b[0m\u001b[0;34m)\u001b[0m\u001b[0;34m\u001b[0m\u001b[0m\n",
      "\u001b[0;31mNameError\u001b[0m: name 'bb3' is not defined"
     ]
    }
   ],
   "source": [
    "n, h, w = bb3.shape\n",
    "input3 = ag.Variable(torch.Tensor(bb3.reshape(n,1,h,w)))\n",
    "targets3 = ag.Variable(torch.IntTensor(trec.encode(sambb.text)))\n",
    "in_lengths3 = ag.Variable(torch.IntTensor([int(w/8)]*n))\n",
    "tar_lengths3 = ag.Variable(torch.IntTensor(sambb.lengths))\n",
    "with torch.no_grad():\n",
    "    output3 = trec.rec(input3)\n",
    "    cost3 = trec.loss1(output3, targets3, in_lengths3, tar_lengths3)"
   ]
  },
  {
   "cell_type": "code",
   "execution_count": 607,
   "metadata": {},
   "outputs": [],
   "source": [
    "n, h, w = bb3.shape\n",
    "with torch.no_grad():\n",
    "    testout = trec.rec(ag.Variable(torch.Tensor(bb3.reshape(n,1,h,w))))"
   ]
  },
  {
   "cell_type": "code",
   "execution_count": 608,
   "metadata": {},
   "outputs": [
    {
     "data": {
      "text/plain": [
       "torch.Size([19, 1, 27])"
      ]
     },
     "execution_count": 608,
     "metadata": {},
     "output_type": "execute_result"
    }
   ],
   "source": [
    "testout.shape"
   ]
  },
  {
   "cell_type": "code",
   "execution_count": 609,
   "metadata": {},
   "outputs": [
    {
     "data": {
      "image/png": "[encoded data removed]",
      "text/plain": [
       "<matplotlib.figure.Figure at 0x118ddb518>"
      ]
     },
     "metadata": {},
     "output_type": "display_data"
    }
   ],
   "source": [
    "plt.imshow(np.exp(testout.detach().numpy()[:,0,:].reshape(-1,27)).T)\n",
    "plt.show()"
   ]
  },
  {
   "cell_type": "code",
   "execution_count": 610,
   "metadata": {},
   "outputs": [
    {
     "data": {
      "text/plain": [
       "[12, 1, 2, 15, 21, 18]"
      ]
     },
     "execution_count": 610,
     "metadata": {},
     "output_type": "execute_result"
    }
   ],
   "source": [
    "[ord(c)-ord('a')+1 for c in 'labour']"
   ]
  },
  {
   "cell_type": "code",
   "execution_count": 459,
   "metadata": {},
   "outputs": [
    {
     "data": {
      "text/plain": [
       "tensor([15.5015, 17.2188, 15.2136, 15.5063, 16.7298, 16.7420, 16.7421, 15.4087,\n",
       "        15.5237, 15.3781, 15.2274, 16.7492, 15.3998, 16.7360, 15.5317, 15.4599,\n",
       "        15.4006, 15.2212, 15.2239, 15.5138, 17.5566, 15.3633, 15.5274, 15.4644,\n",
       "        15.4450, 15.2252, 15.2142, 16.7501, 16.2931, 15.4064, 16.7281, 15.4031,\n",
       "        15.2943, 15.3979, 15.2428, 16.7336, 15.5032, 15.2534, 16.3860, 15.2213,\n",
       "        17.5599, 17.3949, 15.4568, 16.7562, 15.3953, 15.2208, 16.7316, 15.2524,\n",
       "        15.4633, 16.7338])"
      ]
     },
     "execution_count": 459,
     "metadata": {},
     "output_type": "execute_result"
    }
   ],
   "source": [
    "cost3"
   ]
  },
  {
   "cell_type": "code",
   "execution_count": 460,
   "metadata": {},
   "outputs": [
    {
     "data": {
      "text/plain": [
       "False"
      ]
     },
     "execution_count": 460,
     "metadata": {},
     "output_type": "execute_result"
    }
   ],
   "source": [
    "iamtr.samlist[500].checked"
   ]
  },
  {
   "cell_type": "code",
   "execution_count": 613,
   "metadata": {},
   "outputs": [
    {
     "name": "stdout",
     "output_type": "stream",
     "text": [
      "Processing 41 batches of 4031 images of width 16 (1/31)\n",
      "Processing 137 batches of 13672 images of width 32 (2/31)\n",
      "Processing 161 batches of 16008 images of width 48 (3/31)\n",
      "Processing 160 batches of 15996 images of width 64 (4/31)\n",
      "Processing 135 batches of 13493 images of width 80 (5/31)\n",
      "Processing 105 batches of 10438 images of width 96 (6/31)\n",
      "Could not read a01-117-05-02\n",
      "Processing 74 batches of 7342 images of width 112 (7/31)\n",
      "Processing 52 batches of 5146 images of width 128 (8/31)\n",
      "Processing 36 batches of 3507 images of width 144 (9/31)\n",
      "Processing 24 batches of 2334 images of width 160 (10/31)\n",
      "Could not read r06-022-03-05\n",
      "Processing 16 batches of 1533 images of width 176 (11/31)\n",
      "Processing 11 batches of 1037 images of width 192 (12/31)\n",
      "Processing 7 batches of 678 images of width 208 (13/31)\n",
      "Processing 5 batches of 443 images of width 224 (14/31)\n",
      "Processing 3 batches of 281 images of width 240 (15/31)\n",
      "Processing 2 batches of 155 images of width 256 (16/31)\n",
      "Processing 2 batches of 124 images of width 272 (17/31)\n",
      "Processing 1 batches of 79 images of width 288 (18/31)\n",
      "Processing 1 batches of 47 images of width 304 (19/31)\n",
      "Processing 1 batches of 23 images of width 320 (20/31)\n",
      "Processing 1 batches of 18 images of width 336 (21/31)\n",
      "Processing 1 batches of 17 images of width 352 (22/31)\n",
      "Processing 1 batches of 10 images of width 368 (23/31)\n",
      "Processing 1 batches of 4 images of width 384 (24/31)\n",
      "Processing 1 batches of 5 images of width 400 (25/31)\n",
      "Processing 1 batches of 4 images of width 416 (26/31)\n",
      "Processing 1 batches of 1 images of width 432 (27/31)\n",
      "Processing 1 batches of 1 images of width 448 (28/31)\n",
      "Processing 1 batches of 1 images of width 464 (29/31)\n",
      "Processing 1 batches of 1 images of width 480 (30/31)\n",
      "Processing 1 batches of 1 images of width 512 (31/31)\n",
      "CPU times: user 1min 19s, sys: 24.2 s, total: 1min 43s\n",
      "Wall time: 3min 25s\n"
     ]
    }
   ],
   "source": [
    "%%time\n",
    "iamtr100 = pr.IAMTrainDataset(iam, 'train100', 100, verbose=True, create=True)"
   ]
  },
  {
   "cell_type": "code",
   "execution_count": 615,
   "metadata": {},
   "outputs": [
    {
     "data": {
      "text/plain": [
       "1946"
      ]
     },
     "execution_count": 615,
     "metadata": {},
     "output_type": "execute_result"
    }
   ],
   "source": [
    "len(iamtr)"
   ]
  },
  {
   "cell_type": "code",
   "execution_count": 616,
   "metadata": {},
   "outputs": [],
   "source": [
    "reload(htr)\n",
    "trec100 = htr.TextRecognizer(lr=5e-2)"
   ]
  },
  {
   "cell_type": "code",
   "execution_count": null,
   "metadata": {
    "scrolled": true
   },
   "outputs": [
    {
     "name": "stdout",
     "output_type": "stream",
     "text": [
      "Iteration 25: 1.641169\n",
      "Iteration 50: 1.198272\n",
      "Iteration 75: 0.711400\n",
      "Iteration 100: 7.056611\n",
      "Iteration 125: 6.354909\n",
      "Iteration 150: 7.808508\n",
      "Iteration 175: 3.848723\n",
      "Iteration 200: 2.814494\n",
      "Iteration 225: 4.271708\n",
      "Iteration 250: 3.912751\n",
      "Iteration 275: 2.036044\n",
      "Iteration 300: 2.396045\n",
      "Iteration 325: inf\n",
      "Iteration 350: 2.860272\n",
      "Iteration 375: 8.348084\n",
      "Iteration 400: 6.689806\n",
      "Iteration 425: 5.048733\n",
      "Iteration 450: inf\n",
      "Iteration 475: 3.839252\n",
      "Iteration 500: 4.579248\n",
      "Iteration 525: 4.559753\n",
      "Iteration 550: inf\n",
      "Iteration 575: 4.048498\n",
      "Iteration 600: 4.171526\n",
      "Iteration 625: 3.694631\n",
      "Iteration 650: 3.270257\n",
      "Iteration 675: 3.276175\n",
      "Iteration 700: 3.047002\n",
      "Iteration 725: 3.066682\n",
      "Iteration 750: 3.849035\n",
      "Iteration 775: 2.293608\n",
      "Iteration 800: 4.451994\n",
      "Iteration 825: 3.524466\n",
      "Iteration 850: 3.701153\n",
      "Iteration 875: 3.517019\n",
      "Iteration 900: 3.054113\n",
      "Iteration 925: 3.272386\n",
      "Iteration 950: 3.479676\n",
      "Iteration 975: 3.450566\n",
      "Iteration 1000: 3.621202\n",
      "Iteration 1000 threw exception\n",
      "Iteration 1025: 3.741770\n",
      "Iteration 1050: inf\n",
      "Iteration 1075: 3.352768\n",
      "Iteration 1100: 5.391589\n",
      "Iteration 1125: 3.496826\n",
      "Iteration 1150: inf\n",
      "Iteration 1175: 3.357296\n",
      "Iteration 1200: 3.506401\n",
      "Iteration 1225: 3.378637\n",
      "Iteration 1250: 3.901679\n",
      "Iteration 1275: 4.103459\n",
      "Iteration 1300: 3.546412\n",
      "Iteration 1325: 3.376219\n",
      "Iteration 1350: 3.307201\n",
      "Iteration 1375: 3.669894\n",
      "Iteration 1400: 3.269653\n",
      "Iteration 1425: 3.404377\n",
      "Iteration 1450: 3.397819\n",
      "Iteration 1470 threw exception\n",
      "Iteration 1475: 3.366068\n",
      "Iteration 1500: 3.317800\n",
      "Iteration 1525: 3.498370\n",
      "Iteration 1550: 3.506807\n",
      "Iteration 1575: 3.489756\n",
      "Iteration 1600: 3.352007\n",
      "Iteration 1625: 3.209241\n",
      "Iteration 1650: 3.257442\n",
      "Iteration 1675: 3.463620\n",
      "Iteration 1700: 3.215089\n",
      "Iteration 1725: 3.397840\n",
      "Iteration 1750: 3.447459\n",
      "Iteration 1775: 3.211672\n",
      "Iteration 1800: 3.436232\n",
      "Iteration 1825: 3.393236\n",
      "Iteration 1850: 3.297974\n",
      "Iteration 1875: 3.363713\n",
      "Iteration 1900: 3.371808\n",
      "Iteration 1907 threw exception\n",
      "Iteration 1925: 3.281981\n",
      "Iteration 1950: 2.175447\n",
      "Iteration 1975: 6.277861\n",
      "Iteration 2000: 12.555323\n",
      "Iteration 2025: 0.178522\n",
      "Iteration 2050: 16.118706\n",
      "Iteration 2075: 10.874002\n",
      "Iteration 2100: 5.493882\n",
      "Iteration 2125: inf\n",
      "Iteration 2150: 7.073988\n",
      "Iteration 2175: 4.319543\n",
      "Iteration 2200: 5.047265\n",
      "Iteration 2225: 3.337272\n",
      "Iteration 2250: inf\n",
      "Iteration 2275: 3.823708\n",
      "Iteration 2300: 2.901523\n",
      "Iteration 2325: 7.942403\n",
      "Iteration 2350: 3.812809\n",
      "Iteration 2375: 3.180802\n",
      "Iteration 2400: 3.881909\n",
      "Iteration 2425: 3.748033\n",
      "Iteration 2450: 4.521013\n",
      "Iteration 2475: inf\n",
      "Iteration 2500: 4.342377\n",
      "Iteration 2525: 3.078488\n",
      "Iteration 2550: 3.710984\n",
      "Iteration 2575: 4.169223\n",
      "Iteration 2600: 3.540232\n",
      "Iteration 2625: 3.667408\n",
      "Iteration 2650: 3.722356\n",
      "Iteration 2675: 3.384399\n",
      "Iteration 2700: inf\n",
      "Iteration 2725: 6.296763\n",
      "Iteration 2750: 3.350640\n",
      "Iteration 2775: 3.797158\n",
      "Iteration 2800: 3.947197\n",
      "Iteration 2825: 3.761993\n",
      "Iteration 2850: 3.851393\n",
      "Iteration 2875: inf\n",
      "Iteration 2900: 3.501438\n",
      "Iteration 2925: 3.634957\n",
      "Iteration 2946 threw exception\n",
      "Iteration 2950: 4.278181\n",
      "Iteration 2975: 4.077587\n",
      "Iteration 3000: inf\n",
      "Iteration 3025: 3.666131\n",
      "Iteration 3050: 4.499629\n",
      "Iteration 3075: 3.402156\n",
      "Iteration 3100: 3.415323\n",
      "Iteration 3125: 3.410157\n",
      "Iteration 3150: 3.819475\n",
      "Iteration 3175: 3.307652\n",
      "Iteration 3200: 3.285335\n",
      "Iteration 3225: 3.410564\n",
      "Iteration 3250: 4.036534\n",
      "Iteration 3275: inf\n",
      "Iteration 3300: 3.344690\n",
      "Iteration 3325: 3.438644\n",
      "Iteration 3350: 3.411689\n",
      "Iteration 3375: 3.474441\n",
      "Iteration 3400: 3.356707\n",
      "Iteration 3416 threw exception\n",
      "Iteration 3425: 3.431467\n",
      "Iteration 3450: 3.393151\n",
      "Iteration 3475: 3.472530\n",
      "Iteration 3500: 3.244971\n",
      "Iteration 3525: 3.547904\n",
      "Iteration 3550: 3.482957\n",
      "Iteration 3575: 3.298079\n",
      "Iteration 3600: 3.352243\n",
      "Iteration 3625: 3.621877\n",
      "Iteration 3650: 3.330535\n",
      "Iteration 3675: 3.418148\n",
      "Iteration 3700: 3.246871\n",
      "Iteration 3725: 3.586676\n",
      "Iteration 3750: 3.278045\n",
      "Iteration 3775: 3.351609\n",
      "Iteration 3800: 3.423094\n",
      "Iteration 3825: 3.386555\n",
      "Iteration 3850: 3.463273\n",
      "Iteration 3853 threw exception\n",
      "Iteration 3875: 3.368115\n",
      "Iteration 3900: 13.570902\n",
      "Iteration 3925: 13.783575\n",
      "Iteration 3950: 7.282251\n",
      "Iteration 3975: inf\n",
      "Iteration 4000: 20.747303\n",
      "Iteration 4025: 9.145610\n",
      "Iteration 4050: 8.660799\n",
      "Iteration 4075: inf\n",
      "Iteration 4100: 2.876273\n",
      "Iteration 4125: 3.609891\n",
      "Iteration 4150: 3.508101\n",
      "Iteration 4175: inf\n",
      "Iteration 4200: inf\n",
      "Iteration 4225: inf\n",
      "Iteration 4250: 9.069118\n",
      "Iteration 4275: 6.262567\n",
      "Iteration 4300: 5.672685\n",
      "Iteration 4325: 8.139415\n",
      "Iteration 4350: 4.532052\n",
      "Iteration 4375: 3.608882\n",
      "Iteration 4400: 3.751971\n",
      "Iteration 4425: 7.026154\n",
      "Iteration 4450: 6.812585\n",
      "Iteration 4475: 4.008879\n",
      "Iteration 4500: 6.354213\n",
      "Iteration 4525: 3.742270\n",
      "Iteration 4550: 3.837601\n",
      "Iteration 4575: 3.824962\n",
      "Iteration 4600: 4.127511\n",
      "Iteration 4625: 3.589686\n",
      "Iteration 4650: inf\n",
      "Iteration 4675: 4.042535\n",
      "Iteration 4700: 4.691749\n",
      "Iteration 4725: 3.670844\n",
      "Iteration 4750: 3.659864\n",
      "Iteration 4775: 4.604525\n",
      "Iteration 4800: 3.491438\n",
      "Iteration 4825: 4.487112\n",
      "Iteration 4850: 3.429284\n",
      "Iteration 4875: 2.876852\n",
      "Iteration 4892 threw exception\n",
      "Iteration 4900: 3.673084\n",
      "Iteration 4925: 3.660544\n",
      "Iteration 4950: 4.305967\n",
      "Iteration 4975: 3.767427\n",
      "Iteration 5000: 4.920860\n",
      "Iteration 5025: 3.539506\n",
      "Iteration 5050: 3.298134\n",
      "Iteration 5075: 3.446727\n",
      "Iteration 5100: 3.450245\n",
      "Iteration 5125: 3.537162\n",
      "Iteration 5150: 3.409301\n",
      "Iteration 5175: 3.523749\n",
      "Iteration 5200: 3.092673\n",
      "Iteration 5225: 3.473869\n",
      "Iteration 5250: 3.593866\n",
      "Iteration 5275: 3.625254\n",
      "Iteration 5300: 3.346727\n",
      "Iteration 5325: 3.335710\n",
      "Iteration 5350: 3.402398\n",
      "Iteration 5362 threw exception\n",
      "Iteration 5375: 3.490440\n",
      "Iteration 5400: 3.513742\n",
      "Iteration 5425: 3.445817\n",
      "Iteration 5450: 3.498626\n",
      "Iteration 5475: 3.805141\n",
      "Iteration 5500: 3.366772\n",
      "Iteration 5525: 3.436264\n",
      "Iteration 5550: 3.146230\n",
      "Iteration 5575: 3.347461\n",
      "Iteration 5600: 3.264976\n",
      "Iteration 5625: 3.293216\n",
      "Iteration 5650: 3.399210\n",
      "Iteration 5675: 3.433715\n",
      "Iteration 5700: 3.588596\n",
      "Iteration 5725: 3.290753\n",
      "Iteration 5750: 3.343721\n",
      "Iteration 5775: 3.360530\n",
      "Iteration 5799 threw exception\n",
      "Iteration 5800: 3.296902\n",
      "Iteration 5825: 3.359851\n",
      "Iteration 5850: 2.592310\n",
      "Iteration 5875: 1.666139\n",
      "Iteration 5900: 3.744566\n",
      "Iteration 5925: 8.239189\n",
      "Iteration 5950: 16.536892\n",
      "Iteration 5975: inf\n",
      "Iteration 6000: 3.188482\n",
      "Iteration 6025: 6.583830\n",
      "Iteration 6050: 5.457901\n",
      "Iteration 6075: 7.241579\n",
      "Iteration 6100: 4.523378\n",
      "Iteration 6125: 3.705408\n",
      "Iteration 6150: 2.570643\n",
      "Iteration 6175: 6.335060\n",
      "Iteration 6200: 19.651386\n",
      "Iteration 6225: 8.034925\n",
      "Iteration 6250: 6.246366\n",
      "Iteration 6275: 6.090004\n",
      "Iteration 6300: 3.906929\n",
      "Iteration 6325: inf\n",
      "Iteration 6350: 5.898124\n",
      "Iteration 6375: 6.009397\n",
      "Iteration 6400: 5.002810\n",
      "Iteration 6425: inf\n",
      "Iteration 6450: 4.241030\n",
      "Iteration 6475: 3.866988\n",
      "Iteration 6500: inf\n",
      "Iteration 6525: inf\n",
      "Iteration 6550: 3.257811\n",
      "Iteration 6575: 4.278821\n",
      "Iteration 6600: 4.290799\n",
      "Iteration 6625: 5.696668\n",
      "Iteration 6650: 5.409925\n",
      "Iteration 6675: 3.721274\n",
      "Iteration 6700: 4.766459\n",
      "Iteration 6725: 4.900223\n",
      "Iteration 6750: 4.573283\n",
      "Iteration 6775: inf\n",
      "Iteration 6800: 4.007221\n",
      "Iteration 6825: 3.672725\n",
      "Iteration 6838 threw exception\n",
      "Iteration 6850: inf\n",
      "Iteration 6875: 3.652746\n",
      "Iteration 6900: 3.381531\n",
      "Iteration 6925: 3.764297\n",
      "Iteration 6950: 4.842754\n",
      "Iteration 6975: 3.258529\n",
      "Iteration 7000: inf\n",
      "Iteration 7025: 3.412684\n",
      "Iteration 7050: 3.176211\n",
      "Iteration 7075: 3.332277\n",
      "Iteration 7100: 3.493939\n",
      "Iteration 7125: 3.769577\n",
      "Iteration 7150: 3.386776\n",
      "Iteration 7175: 3.501697\n",
      "Iteration 7200: 3.569939\n",
      "Iteration 7225: 3.504437\n",
      "Iteration 7250: 3.301018\n",
      "Iteration 7275: 3.377679\n",
      "Iteration 7300: 3.358634\n",
      "Iteration 7308 threw exception\n",
      "Iteration 7325: 3.317926\n",
      "Iteration 7350: 3.312221\n",
      "Iteration 7375: 3.571858\n",
      "Iteration 7400: 3.286881\n",
      "Iteration 7425: 3.408138\n",
      "Iteration 7450: 3.356489\n",
      "Iteration 7475: 3.205286\n",
      "Iteration 7500: 3.444602\n",
      "Iteration 7525: 3.298580\n",
      "Iteration 7550: 3.324980\n",
      "Iteration 7575: 3.393974\n",
      "Iteration 7600: 3.357926\n",
      "Iteration 7625: 3.231718\n",
      "Iteration 7650: 3.470231\n",
      "Iteration 7675: 3.270859\n",
      "Iteration 7700: 3.236833\n",
      "Iteration 7725: 3.649101\n",
      "Iteration 7745 threw exception\n",
      "Iteration 7750: 3.541723\n",
      "Iteration 7775: 3.953968\n",
      "Iteration 7800: 6.731639\n",
      "Iteration 7825: 3.191175\n",
      "Iteration 7850: 10.102219\n",
      "Iteration 7875: 17.802090\n",
      "Iteration 7900: 22.457081\n",
      "Iteration 7925: 10.983943\n",
      "Iteration 7950: 8.613927\n",
      "Iteration 7975: 4.084099\n",
      "Iteration 8000: 5.177538\n"
     ]
    },
    {
     "name": "stdout",
     "output_type": "stream",
     "text": [
      "Iteration 8025: 6.284509\n",
      "Iteration 8050: 5.163635\n",
      "Iteration 8075: 4.986548\n",
      "Iteration 8100: inf\n",
      "Iteration 8125: 4.994673\n",
      "Iteration 8150: 11.426610\n",
      "Iteration 8175: 7.275527\n",
      "Iteration 8200: 5.366938\n",
      "Iteration 8225: 4.494779\n",
      "Iteration 8250: 4.505617\n",
      "Iteration 8275: 4.594082\n",
      "Iteration 8300: 4.603674\n",
      "Iteration 8325: 4.206555\n",
      "Iteration 8350: 5.128603\n",
      "Iteration 8375: 5.520174\n",
      "Iteration 8400: 3.663802\n",
      "Iteration 8425: 3.893930\n",
      "Iteration 8450: 3.970634\n",
      "Iteration 8475: 3.942636\n",
      "Iteration 8500: 3.313613\n",
      "Iteration 8525: 3.945137\n",
      "Iteration 8550: 3.047978\n",
      "Iteration 8575: inf\n",
      "Iteration 8600: 4.003231\n",
      "Iteration 8625: 4.106511\n",
      "Iteration 8650: 3.901643\n",
      "Iteration 8675: 3.739175\n",
      "Iteration 8700: 3.649457\n",
      "Iteration 8725: 3.302813\n",
      "Iteration 8750: 3.624295\n",
      "Iteration 8775: 3.980456\n",
      "Iteration 8784 threw exception\n",
      "Iteration 8800: 3.241394\n",
      "Iteration 8825: 4.657711\n",
      "Iteration 8850: 3.346734\n",
      "Iteration 8875: 3.745249\n",
      "Iteration 8900: 5.546969\n",
      "Iteration 8925: 3.711868\n",
      "Iteration 8950: 3.529115\n",
      "Iteration 8975: 3.450255\n",
      "Iteration 9000: 3.409701\n",
      "Iteration 9025: 3.207283\n",
      "Iteration 9050: 3.437246\n",
      "Iteration 9075: 3.472605\n",
      "Iteration 9100: 3.286685\n",
      "Iteration 9125: 3.967016\n",
      "Iteration 9150: 3.672940\n",
      "Iteration 9175: 3.238532\n",
      "Iteration 9200: 3.388684\n",
      "Iteration 9225: 3.338254\n",
      "Iteration 9250: 3.399432\n",
      "Iteration 9254 threw exception\n",
      "Iteration 9275: 3.141757\n",
      "Iteration 9300: 3.597449\n",
      "Iteration 9325: 3.562847\n",
      "Iteration 9350: 3.318813\n",
      "Iteration 9375: 3.299854\n",
      "Iteration 9400: 3.559750\n",
      "Iteration 9425: 3.485618\n",
      "Iteration 9450: 3.408246\n",
      "Iteration 9475: 3.457944\n",
      "Iteration 9500: 3.544441\n",
      "Iteration 9525: 3.394433\n",
      "Iteration 9550: 3.647420\n",
      "Iteration 9575: 3.395543\n",
      "Iteration 9600: 3.599063\n",
      "Iteration 9625: 3.485123\n",
      "Iteration 9650: 3.465224\n",
      "Iteration 9675: 3.461595\n",
      "Iteration 9691 threw exception\n",
      "Iteration 9700: 3.474357\n",
      "Iteration 9725: 3.542420\n",
      "Iteration 9750: 7.166698\n",
      "Iteration 9775: 10.202623\n",
      "Iteration 9800: 4.027491\n",
      "Iteration 9825: 36.484283\n",
      "Iteration 9850: 9.926316\n",
      "Iteration 9875: 5.418133\n",
      "Iteration 9900: 3.423390\n",
      "Iteration 9925: 7.162657\n",
      "Iteration 9950: 2.087607\n",
      "Iteration 9975: 5.890522\n",
      "Iteration 10000: 1.988675\n",
      "Iteration 10025: 3.725071\n",
      "Iteration 10050: 2.639051\n",
      "Iteration 10075: 3.318982\n",
      "Iteration 10100: 8.491084\n",
      "Iteration 10125: 4.714187\n",
      "Iteration 10150: 5.327454\n",
      "Iteration 10175: 4.608688\n",
      "Iteration 10200: 5.439321\n",
      "Iteration 10225: 4.480215\n",
      "Iteration 10250: 3.986904\n",
      "Iteration 10275: 5.179617\n",
      "Iteration 10300: 3.269768\n",
      "Iteration 10325: 3.673503\n",
      "Iteration 10350: 3.600487\n",
      "Iteration 10375: 3.506042\n",
      "Iteration 10400: 3.501577\n",
      "Iteration 10425: 3.936148\n",
      "Iteration 10450: 3.135977\n",
      "Iteration 10475: 3.492724\n",
      "Iteration 10500: 5.602276\n",
      "Iteration 10525: 5.035811\n",
      "Iteration 10550: 4.098644\n",
      "Iteration 10575: 3.528406\n",
      "Iteration 10600: 4.766912\n",
      "Iteration 10625: 4.851482\n",
      "Iteration 10650: 3.774943\n",
      "Iteration 10675: inf\n",
      "Iteration 10700: 3.525505\n",
      "Iteration 10725: 3.621058\n",
      "Iteration 10730 threw exception\n",
      "Iteration 10750: 3.177357\n",
      "Iteration 10775: 3.448849\n",
      "Iteration 10800: 3.215998\n",
      "Iteration 10825: 3.242347\n",
      "Iteration 10850: 3.432899\n",
      "Iteration 10875: 3.377382\n",
      "Iteration 10900: 3.199972\n",
      "Iteration 10925: 3.834929\n",
      "Iteration 10950: 3.534415\n",
      "Iteration 10975: 3.256864\n",
      "Iteration 11000: 3.307292\n",
      "Iteration 11025: 3.419877\n",
      "Iteration 11050: 3.738050\n",
      "Iteration 11075: 3.697844\n",
      "Iteration 11100: 3.412938\n",
      "Iteration 11125: 3.578953\n",
      "Iteration 11150: 3.516742\n",
      "Iteration 11175: 3.562509\n",
      "Iteration 11200: 3.452364\n",
      "Iteration 11200 threw exception\n",
      "Iteration 11225: 3.396314\n",
      "Iteration 11250: 3.451584\n",
      "Iteration 11275: 3.465952\n",
      "Iteration 11300: 3.515989\n",
      "Iteration 11325: 3.544672\n",
      "Iteration 11350: 3.565081\n",
      "Iteration 11375: 3.509277\n",
      "Iteration 11400: 3.683403\n",
      "Iteration 11425: 3.238912\n",
      "Iteration 11450: 3.217983\n",
      "Iteration 11475: 3.324402\n",
      "Iteration 11500: 3.189628\n",
      "Iteration 11525: 3.348587\n",
      "Iteration 11550: 3.676372\n",
      "Iteration 11575: 3.188563\n",
      "Iteration 11600: 3.109765\n",
      "Iteration 11625: 3.518679\n",
      "Iteration 11637 threw exception\n",
      "Iteration 11650: 3.179943\n",
      "Iteration 11675: 3.620412\n",
      "Iteration 11700: 3.429118\n",
      "Iteration 11725: 6.682034\n",
      "Iteration 11750: 5.535020\n",
      "Iteration 11775: 22.176970\n",
      "Iteration 11800: 16.434410\n",
      "Iteration 11825: 22.197374\n",
      "Iteration 11850: 8.203653\n",
      "Iteration 11875: 9.666912\n",
      "Iteration 11900: 6.348713\n",
      "Iteration 11925: 2.513648\n",
      "Iteration 11950: 3.202621\n",
      "Iteration 11975: 2.038437\n",
      "Iteration 12000: 2.886851\n",
      "Iteration 12025: inf\n",
      "Iteration 12050: 15.100710\n",
      "Iteration 12075: 12.075806\n",
      "Iteration 12100: 4.979740\n",
      "Iteration 12125: 3.792930\n",
      "Iteration 12150: 4.215668\n",
      "Iteration 12175: 4.768767\n",
      "Iteration 12200: inf\n",
      "Iteration 12225: inf\n",
      "Iteration 12250: inf\n",
      "Iteration 12275: inf\n",
      "Iteration 12300: 3.299367\n",
      "Iteration 12325: 4.027287\n",
      "Iteration 12350: 4.875902\n",
      "Iteration 12375: 3.868024\n",
      "Iteration 12400: 4.160122\n",
      "Iteration 12425: 3.361294\n",
      "Iteration 12450: 4.472481\n",
      "Iteration 12475: 4.306579\n",
      "Iteration 12500: inf\n",
      "Iteration 12525: 3.923481\n",
      "Iteration 12550: 3.515712\n",
      "Iteration 12575: 3.584476\n",
      "Iteration 12600: inf\n",
      "Iteration 12625: 3.319810\n",
      "Iteration 12650: 3.555980\n",
      "Iteration 12675: inf\n",
      "Iteration 12676 threw exception\n",
      "Iteration 12700: 3.343770\n",
      "Iteration 12725: 3.715600\n",
      "Iteration 12750: 3.779144\n",
      "Iteration 12775: 3.756851\n",
      "Iteration 12800: 4.661311\n",
      "Iteration 12825: 4.428985\n",
      "Iteration 12850: 3.588735\n",
      "Iteration 12875: 3.508420\n",
      "Iteration 12900: 3.508340\n",
      "Iteration 12925: 3.718371\n",
      "Iteration 12950: 3.447857\n",
      "Iteration 12975: 3.377299\n",
      "Iteration 13000: 3.658491\n",
      "Iteration 13025: 3.918236\n",
      "Iteration 13050: 3.514093\n",
      "Iteration 13075: 3.759337\n",
      "Iteration 13100: 3.528811\n",
      "Iteration 13125: 3.452846\n",
      "Iteration 13146 threw exception\n",
      "Iteration 13150: 3.352016\n",
      "Iteration 13175: 3.204993\n",
      "Iteration 13200: 3.459325\n",
      "Iteration 13225: 3.370157\n",
      "Iteration 13250: 4.099773\n",
      "Iteration 13275: 3.413635\n",
      "Iteration 13300: 3.484971\n",
      "Iteration 13325: 3.341298\n",
      "Iteration 13350: 3.394676\n",
      "Iteration 13375: 3.481843\n",
      "Iteration 13400: 3.299956\n",
      "Iteration 13425: 3.399512\n",
      "Iteration 13450: 4.032818\n",
      "Iteration 13475: 3.432352\n",
      "Iteration 13500: 3.384073\n",
      "Iteration 13525: 3.369786\n",
      "Iteration 13550: 3.378055\n",
      "Iteration 13575: 3.371934\n",
      "Iteration 13583 threw exception\n",
      "Iteration 13600: 3.156713\n",
      "Iteration 13625: 0.727023\n",
      "Iteration 13650: 5.920828\n",
      "Iteration 13675: 8.913424\n",
      "Iteration 13700: 4.092559\n",
      "Iteration 13725: 13.384972\n",
      "Iteration 13750: 20.431082\n",
      "Iteration 13775: 11.642834\n",
      "Iteration 13800: inf\n",
      "Iteration 13825: 6.448499\n",
      "Iteration 13850: inf\n",
      "Iteration 13875: 3.702719\n",
      "Iteration 13900: inf\n",
      "Iteration 13925: 5.590744\n",
      "Iteration 13950: inf\n",
      "Iteration 13975: 3.626318\n",
      "Iteration 14000: 10.568051\n",
      "Iteration 14025: 5.608479\n",
      "Iteration 14050: 4.887878\n",
      "Iteration 14075: 3.949988\n",
      "Iteration 14100: 4.353389\n",
      "Iteration 14125: 5.096804\n",
      "Iteration 14150: inf\n",
      "Iteration 14175: 6.746643\n",
      "Iteration 14200: 3.764544\n",
      "Iteration 14225: inf\n",
      "Iteration 14250: 6.086121\n",
      "Iteration 14275: inf\n",
      "Iteration 14300: inf\n",
      "Iteration 14325: 3.575804\n",
      "Iteration 14350: 3.921552\n",
      "Iteration 14375: inf\n",
      "Iteration 14400: 4.982196\n",
      "Iteration 14425: 4.087799\n",
      "Iteration 14450: 3.858334\n",
      "Iteration 14475: inf\n",
      "Iteration 14500: 4.137634\n",
      "Iteration 14525: 4.035442\n",
      "Iteration 14550: 3.818117\n",
      "Iteration 14575: 3.430764\n",
      "Iteration 14600: 3.421920\n",
      "Iteration 14622 threw exception\n",
      "Iteration 14625: 3.393858\n",
      "Iteration 14650: inf\n",
      "Iteration 14675: 3.603341\n",
      "Iteration 14700: inf\n",
      "Iteration 14725: 4.676090\n",
      "Iteration 14750: 3.672304\n",
      "Iteration 14775: 4.143525\n",
      "Iteration 14800: 3.899803\n",
      "Iteration 14825: 5.182096\n",
      "Iteration 14850: 3.282404\n",
      "Iteration 14875: 3.676525\n",
      "Iteration 14900: 3.407143\n",
      "Iteration 14925: 3.596110\n",
      "Iteration 14950: 3.548524\n",
      "Iteration 14975: 3.636436\n",
      "Iteration 15000: 3.431870\n",
      "Iteration 15025: 3.436017\n",
      "Iteration 15050: 3.602947\n",
      "Iteration 15075: 3.290704\n",
      "Iteration 15092 threw exception\n",
      "Iteration 15100: 3.298303\n",
      "Iteration 15125: 3.404037\n",
      "Iteration 15150: 3.604808\n",
      "Iteration 15175: 3.524650\n",
      "Iteration 15200: 3.612690\n",
      "Iteration 15225: 3.563724\n",
      "Iteration 15250: 3.358227\n",
      "Iteration 15275: 3.448238\n",
      "Iteration 15300: 3.384430\n",
      "Iteration 15325: 3.143596\n",
      "Iteration 15350: 3.340766\n",
      "Iteration 15375: 3.245498\n",
      "Iteration 15400: 3.370627\n",
      "Iteration 15425: 3.467104\n"
     ]
    }
   ],
   "source": [
    "%%time\n",
    "scores100 = trec100.train(iamtr.samlist, verbose=25, eps=10)"
   ]
  },
  {
   "cell_type": "code",
   "execution_count": null,
   "metadata": {},
   "outputs": [],
   "source": [
    "plt.plot(scores100)\n",
    "plt.show()"
   ]
  },
  {
   "cell_type": "code",
   "execution_count": null,
   "metadata": {},
   "outputs": [],
   "source": []
  }
 ],
 "metadata": {
  "kernelspec": {
   "display_name": "Python 3",
   "language": "python",
   "name": "python3"
  },
  "language_info": {
   "codemirror_mode": {
    "name": "ipython",
    "version": 3
   },
   "file_extension": ".py",
   "mimetype": "text/x-python",
   "name": "python",
   "nbconvert_exporter": "python",
   "pygments_lexer": "ipython3",
   "version": "3.5.3"
  }
 },
 "nbformat": 4,
 "nbformat_minor": 2
}
